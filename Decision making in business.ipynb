{
 "cells": [
  {
   "cell_type": "markdown",
   "metadata": {},
   "source": [
    "<div class=\"alert alert-success\">\n",
    "<b> Комментарий от ревьюера 3</b>\n",
    "\n",
    "Спасибо, что учел мои комментарии. Ты приложил много усилий, чтобы довести проект до конца, надеюсь, что эта работа помогла тебе лучше понять теорию. Я принимаю проект и желаю удачи в прохождении курса!\n",
    "\n",
    "</div>"
   ]
  },
  {
   "cell_type": "markdown",
   "metadata": {},
   "source": [
    "<div class=\"alert alert-success\">\n",
    "<b> Комментарий от ревьюера 2</b>\n",
    "\n",
    "Привет еще раз. Спасибо, что доделал работу. Оформление комментариев по работе сохраняется. Только обозначим, что это вторая итерация. \n",
    "\n",
    "</div>"
   ]
  },
  {
   "cell_type": "markdown",
   "metadata": {},
   "source": [
    "Привет, Евгений.\n",
    "\n",
    "Меня зовут Людмила, и я буду проводить ревью твоего проекта. \n",
    "\n",
    "Предлагаю перейти на «ты», если не против)\n",
    "\n",
    "Но если это не удобно — дай знать, и мы перейдем на «вы». Моя главная задача — не находить сделанные тобою ошибки, а передать свой опыт и помочь тебе стать аналитиком данных.\n",
    "\n",
    "Мои комментарии будут в ячейках «Комментарий от ревьюера».\n",
    "\n",
    "---    \n",
    "<div class=\"alert alert-block alert-danger\">\n",
    "    \n",
    "Критическое замечание, которые следует исправить.\n",
    "</div> \n",
    "    \n",
    "<div class=\"alert alert-block alert-warning\">\n",
    "    \n",
    "Замечание\\совет на будущее.\n",
    "</div>\n",
    "    \n",
    "<div class=\"alert alert-block alert-success\">\n",
    "    \n",
    "Когда всё сделано правильно.\n",
    "</div>\n",
    "    \n",
    "---        \n",
    "    \n",
    "Если ты вносишь изменения в проект по моим рекомендациям, указывай, пожалуйста, это в своих комментариях. Будет удобно, если обозначишь свои комментарии заметным цветом или поместишь \n",
    "\n",
    "<div class=\"alert alert-info\">\n",
    "    \n",
    "в такую ячейку\n",
    "</div>\n",
    "\n",
    "Давай при работе с проектом мы будем общаться с тобой в диалоге, поэтому не удаляй и не перемещай мои комментарии, это поможет мне сделать повторную  проверку проекта быстрее.\n",
    "___"
   ]
  },
  {
   "cell_type": "markdown",
   "metadata": {},
   "source": [
    "# Аналитика интернет магазина"
   ]
  },
  {
   "cell_type": "markdown",
   "metadata": {},
   "source": [
    "**Цель исследования:** Вместе с отделом маркетинга подготовлен список гипотез для увеличения выручки. Необходимо приоритизировать гипотезы, запустите A/B-тест и проанализировать результаты.\n",
    "\n",
    "**Ход исследования:** Данные берем из трех файлов: \n",
    "- hypothesis.csv\n",
    "- orders.csv\n",
    "- visitors.csv\n",
    "\n",
    "В которых содержится информация о гипотезах, заказах и пользователях. На основании полученных файлов проведем исследование.\n",
    "\n",
    "**Этапы исследования:**\n",
    "\n",
    "- Загрузка данных;\n",
    "- Приоритизация гипотез;\n",
    "- Анализ A/B-теста;\n",
    "- Выводы."
   ]
  },
  {
   "cell_type": "markdown",
   "metadata": {},
   "source": [
    "**Описание данных:**\n",
    "\n",
    "**Гипотезы** — hypothesis.csv\n",
    "- Hypothesis — краткое описание гипотезы;\n",
    "- Reach — охват пользователей по 10-балльной шкале;\n",
    "- Impact — влияние на пользователей по 10-балльной шкале;\n",
    "- Confidence — уверенность в гипотезе по 10-балльной шкале;\n",
    "- Efforts — затраты ресурсов на проверку гипотезы по 10-балльной шкале.\n",
    "\n",
    "**Заказы** — orders.csv\n",
    "- transactionId — идентификатор заказа;\n",
    "- visitorId — идентификатор пользователя, совершившего заказ;\n",
    "- date — дата, когда был совершён заказ;\n",
    "- revenue — выручка заказа;\n",
    "- group — группа A/B-теста, в которую попал заказ.\n",
    "\n",
    "**Пользователи** — visitors.csv\n",
    "- date — дата;\n",
    "- group — группа A/B-теста;\n",
    "- visitors — количество пользователей в указанную дату в указанной группе A/B-теста"
   ]
  },
  {
   "cell_type": "markdown",
   "metadata": {},
   "source": [
    "<div class=\"alert alert-block alert-success\">\n",
    "    \n",
    "<b>Комментарий ревьюера:</b> Хорошо, что во вступительной части ты указываешь всю важную информацию о проекте.\n",
    "</div>"
   ]
  },
  {
   "cell_type": "code",
   "execution_count": 1,
   "metadata": {},
   "outputs": [],
   "source": [
    "import pandas as pd\n",
    "import datetime as dt\n",
    "import numpy as np\n",
    "import matplotlib.pyplot as plt\n",
    "import scipy.stats as stats"
   ]
  },
  {
   "cell_type": "markdown",
   "metadata": {},
   "source": [
    "<div class=\"alert alert-block alert-success\">\n",
    "    \n",
    "<b>Комментарий ревьюера:</b> Все нужные библиотеки загружены, отлично.\n",
    "</div>"
   ]
  },
  {
   "cell_type": "markdown",
   "metadata": {},
   "source": [
    "#### Шаг 1. Загрузка данных"
   ]
  },
  {
   "cell_type": "code",
   "execution_count": 2,
   "metadata": {},
   "outputs": [],
   "source": [
    "# Загружаем файлы\n",
    "try:\n",
    "    hypothesis = pd.read_csv('/datasets/hypothesis.csv', sep=',', skipinitialspace = True)\n",
    "    orders = pd.read_csv('/datasets/orders.csv', sep=',', skipinitialspace = True)\n",
    "    visitors = pd.read_csv('/datasets/visitors.csv', sep=',', skipinitialspace = True)\n",
    "except:\n",
    "    hypothesis = pd.read_csv('https://code.s3.yandex.net/datasets/hypothesis.csv', sep=',')\n",
    "    orders = pd.read_csv('https://code.s3.yandex.net/datasets/orders.csv', sep=',')\n",
    "    visitors = pd.read_csv('https://code.s3.yandex.net/datasets/visitors.csv', sep=',')"
   ]
  },
  {
   "cell_type": "code",
   "execution_count": 3,
   "metadata": {},
   "outputs": [
    {
     "data": {
      "text/html": [
       "<div>\n",
       "<style scoped>\n",
       "    .dataframe tbody tr th:only-of-type {\n",
       "        vertical-align: middle;\n",
       "    }\n",
       "\n",
       "    .dataframe tbody tr th {\n",
       "        vertical-align: top;\n",
       "    }\n",
       "\n",
       "    .dataframe thead th {\n",
       "        text-align: right;\n",
       "    }\n",
       "</style>\n",
       "<table border=\"1\" class=\"dataframe\">\n",
       "  <thead>\n",
       "    <tr style=\"text-align: right;\">\n",
       "      <th></th>\n",
       "      <th>Hypothesis</th>\n",
       "      <th>Reach</th>\n",
       "      <th>Impact</th>\n",
       "      <th>Confidence</th>\n",
       "      <th>Efforts</th>\n",
       "    </tr>\n",
       "  </thead>\n",
       "  <tbody>\n",
       "    <tr>\n",
       "      <th>0</th>\n",
       "      <td>Добавить два новых канала привлечения трафика, что позволит привлекать на 30% больше пользователей</td>\n",
       "      <td>3</td>\n",
       "      <td>10</td>\n",
       "      <td>8</td>\n",
       "      <td>6</td>\n",
       "    </tr>\n",
       "    <tr>\n",
       "      <th>1</th>\n",
       "      <td>Запустить собственную службу доставки, что сократит срок доставки заказов</td>\n",
       "      <td>2</td>\n",
       "      <td>5</td>\n",
       "      <td>4</td>\n",
       "      <td>10</td>\n",
       "    </tr>\n",
       "    <tr>\n",
       "      <th>2</th>\n",
       "      <td>Добавить блоки рекомендаций товаров на сайт интернет магазина, чтобы повысить конверсию и средний чек заказа</td>\n",
       "      <td>8</td>\n",
       "      <td>3</td>\n",
       "      <td>7</td>\n",
       "      <td>3</td>\n",
       "    </tr>\n",
       "    <tr>\n",
       "      <th>3</th>\n",
       "      <td>Изменить структура категорий, что увеличит конверсию, т.к. пользователи быстрее найдут нужный товар</td>\n",
       "      <td>8</td>\n",
       "      <td>3</td>\n",
       "      <td>3</td>\n",
       "      <td>8</td>\n",
       "    </tr>\n",
       "    <tr>\n",
       "      <th>4</th>\n",
       "      <td>Изменить цвет фона главной страницы, чтобы увеличить вовлеченность пользователей</td>\n",
       "      <td>3</td>\n",
       "      <td>1</td>\n",
       "      <td>1</td>\n",
       "      <td>1</td>\n",
       "    </tr>\n",
       "    <tr>\n",
       "      <th>5</th>\n",
       "      <td>Добавить страницу отзывов клиентов о магазине, что позволит увеличить количество заказов</td>\n",
       "      <td>3</td>\n",
       "      <td>2</td>\n",
       "      <td>2</td>\n",
       "      <td>3</td>\n",
       "    </tr>\n",
       "    <tr>\n",
       "      <th>6</th>\n",
       "      <td>Показать на главной странице баннеры с актуальными акциями и распродажами, чтобы увеличить конверсию</td>\n",
       "      <td>5</td>\n",
       "      <td>3</td>\n",
       "      <td>8</td>\n",
       "      <td>3</td>\n",
       "    </tr>\n",
       "    <tr>\n",
       "      <th>7</th>\n",
       "      <td>Добавить форму подписки на все основные страницы, чтобы собрать базу клиентов для email-рассылок</td>\n",
       "      <td>10</td>\n",
       "      <td>7</td>\n",
       "      <td>8</td>\n",
       "      <td>5</td>\n",
       "    </tr>\n",
       "    <tr>\n",
       "      <th>8</th>\n",
       "      <td>Запустить акцию, дающую скидку на товар в день рождения</td>\n",
       "      <td>1</td>\n",
       "      <td>9</td>\n",
       "      <td>9</td>\n",
       "      <td>5</td>\n",
       "    </tr>\n",
       "  </tbody>\n",
       "</table>\n",
       "</div>"
      ],
      "text/plain": [
       "                                                                                                     Hypothesis  \\\n",
       "0            Добавить два новых канала привлечения трафика, что позволит привлекать на 30% больше пользователей   \n",
       "1                                     Запустить собственную службу доставки, что сократит срок доставки заказов   \n",
       "2  Добавить блоки рекомендаций товаров на сайт интернет магазина, чтобы повысить конверсию и средний чек заказа   \n",
       "3           Изменить структура категорий, что увеличит конверсию, т.к. пользователи быстрее найдут нужный товар   \n",
       "4                              Изменить цвет фона главной страницы, чтобы увеличить вовлеченность пользователей   \n",
       "5                      Добавить страницу отзывов клиентов о магазине, что позволит увеличить количество заказов   \n",
       "6          Показать на главной странице баннеры с актуальными акциями и распродажами, чтобы увеличить конверсию   \n",
       "7              Добавить форму подписки на все основные страницы, чтобы собрать базу клиентов для email-рассылок   \n",
       "8                                                       Запустить акцию, дающую скидку на товар в день рождения   \n",
       "\n",
       "   Reach  Impact  Confidence  Efforts  \n",
       "0      3      10           8        6  \n",
       "1      2       5           4       10  \n",
       "2      8       3           7        3  \n",
       "3      8       3           3        8  \n",
       "4      3       1           1        1  \n",
       "5      3       2           2        3  \n",
       "6      5       3           8        3  \n",
       "7     10       7           8        5  \n",
       "8      1       9           9        5  "
      ]
     },
     "execution_count": 3,
     "metadata": {},
     "output_type": "execute_result"
    }
   ],
   "source": [
    "# Выведем таблицу и общую информацию\n",
    "pd.set_option('max_colwidth', 200)\n",
    "hypothesis"
   ]
  },
  {
   "cell_type": "markdown",
   "metadata": {},
   "source": [
    "<div class=\"alert alert-block alert-warning\">\n",
    "    \n",
    "\n",
    "**Комментарий от ревьюера**\n",
    "\n",
    "Удобнее вывести названия гипотез целиком: `pd.set_option('max_colwidth', 200)`\n",
    "    \n",
    "\n",
    "</div>"
   ]
  },
  {
   "cell_type": "markdown",
   "metadata": {},
   "source": [
    "<div class=\"alert alert-info\">\n",
    "    \n",
    "Добавил строку кода, чтобы гипотезу были видны целиком\n",
    "</div>"
   ]
  },
  {
   "cell_type": "markdown",
   "metadata": {},
   "source": [
    "<div class=\"alert alert-success\">\n",
    "<b> Комментарий от ревьюера 2</b>\n",
    "\n",
    "Молодец, что отредактировала таблицу, теперь можно легко сравнить гипотезы. \n",
    "\n",
    "</div>"
   ]
  },
  {
   "cell_type": "code",
   "execution_count": 4,
   "metadata": {},
   "outputs": [
    {
     "name": "stdout",
     "output_type": "stream",
     "text": [
      "<class 'pandas.core.frame.DataFrame'>\n",
      "RangeIndex: 9 entries, 0 to 8\n",
      "Data columns (total 5 columns):\n",
      " #   Column      Non-Null Count  Dtype \n",
      "---  ------      --------------  ----- \n",
      " 0   Hypothesis  9 non-null      object\n",
      " 1   Reach       9 non-null      int64 \n",
      " 2   Impact      9 non-null      int64 \n",
      " 3   Confidence  9 non-null      int64 \n",
      " 4   Efforts     9 non-null      int64 \n",
      "dtypes: int64(4), object(1)\n",
      "memory usage: 488.0+ bytes\n"
     ]
    }
   ],
   "source": [
    "hypothesis.info()"
   ]
  },
  {
   "cell_type": "code",
   "execution_count": 5,
   "metadata": {},
   "outputs": [
    {
     "data": {
      "text/html": [
       "<div>\n",
       "<style scoped>\n",
       "    .dataframe tbody tr th:only-of-type {\n",
       "        vertical-align: middle;\n",
       "    }\n",
       "\n",
       "    .dataframe tbody tr th {\n",
       "        vertical-align: top;\n",
       "    }\n",
       "\n",
       "    .dataframe thead th {\n",
       "        text-align: right;\n",
       "    }\n",
       "</style>\n",
       "<table border=\"1\" class=\"dataframe\">\n",
       "  <thead>\n",
       "    <tr style=\"text-align: right;\">\n",
       "      <th></th>\n",
       "      <th>transactionId</th>\n",
       "      <th>visitorId</th>\n",
       "      <th>date</th>\n",
       "      <th>revenue</th>\n",
       "      <th>group</th>\n",
       "    </tr>\n",
       "  </thead>\n",
       "  <tbody>\n",
       "    <tr>\n",
       "      <th>0</th>\n",
       "      <td>3667963787</td>\n",
       "      <td>3312258926</td>\n",
       "      <td>2019-08-15</td>\n",
       "      <td>1650</td>\n",
       "      <td>B</td>\n",
       "    </tr>\n",
       "    <tr>\n",
       "      <th>1</th>\n",
       "      <td>2804400009</td>\n",
       "      <td>3642806036</td>\n",
       "      <td>2019-08-15</td>\n",
       "      <td>730</td>\n",
       "      <td>B</td>\n",
       "    </tr>\n",
       "    <tr>\n",
       "      <th>2</th>\n",
       "      <td>2961555356</td>\n",
       "      <td>4069496402</td>\n",
       "      <td>2019-08-15</td>\n",
       "      <td>400</td>\n",
       "      <td>A</td>\n",
       "    </tr>\n",
       "    <tr>\n",
       "      <th>3</th>\n",
       "      <td>3797467345</td>\n",
       "      <td>1196621759</td>\n",
       "      <td>2019-08-15</td>\n",
       "      <td>9759</td>\n",
       "      <td>B</td>\n",
       "    </tr>\n",
       "    <tr>\n",
       "      <th>4</th>\n",
       "      <td>2282983706</td>\n",
       "      <td>2322279887</td>\n",
       "      <td>2019-08-15</td>\n",
       "      <td>2308</td>\n",
       "      <td>B</td>\n",
       "    </tr>\n",
       "  </tbody>\n",
       "</table>\n",
       "</div>"
      ],
      "text/plain": [
       "   transactionId   visitorId        date  revenue group\n",
       "0     3667963787  3312258926  2019-08-15     1650     B\n",
       "1     2804400009  3642806036  2019-08-15      730     B\n",
       "2     2961555356  4069496402  2019-08-15      400     A\n",
       "3     3797467345  1196621759  2019-08-15     9759     B\n",
       "4     2282983706  2322279887  2019-08-15     2308     B"
      ]
     },
     "execution_count": 5,
     "metadata": {},
     "output_type": "execute_result"
    }
   ],
   "source": [
    "# Выведем по 5 строк для понимания что у нас в таблицах и общую информацию\n",
    "orders.head(5)"
   ]
  },
  {
   "cell_type": "code",
   "execution_count": 6,
   "metadata": {},
   "outputs": [
    {
     "name": "stdout",
     "output_type": "stream",
     "text": [
      "<class 'pandas.core.frame.DataFrame'>\n",
      "RangeIndex: 1197 entries, 0 to 1196\n",
      "Data columns (total 5 columns):\n",
      " #   Column         Non-Null Count  Dtype \n",
      "---  ------         --------------  ----- \n",
      " 0   transactionId  1197 non-null   int64 \n",
      " 1   visitorId      1197 non-null   int64 \n",
      " 2   date           1197 non-null   object\n",
      " 3   revenue        1197 non-null   int64 \n",
      " 4   group          1197 non-null   object\n",
      "dtypes: int64(3), object(2)\n",
      "memory usage: 46.9+ KB\n"
     ]
    }
   ],
   "source": [
    "orders.info()"
   ]
  },
  {
   "cell_type": "code",
   "execution_count": 7,
   "metadata": {},
   "outputs": [
    {
     "name": "stdout",
     "output_type": "stream",
     "text": [
      "Количество дубликатов в таблице Заказы: 0\n"
     ]
    }
   ],
   "source": [
    "# Теперь проверим на явные дубликаты\n",
    "print(\"Количество дубликатов в таблице Заказы:\", orders.duplicated().sum())"
   ]
  },
  {
   "cell_type": "markdown",
   "metadata": {},
   "source": [
    "<div class=\"alert alert-block alert-danger\">\n",
    "    \n",
    "**Комментарий от ревьюера**\n",
    "При знакомстве с данными нам нужно еще выполнить проверку на дубликаты.\n",
    "</div>"
   ]
  },
  {
   "cell_type": "markdown",
   "metadata": {},
   "source": [
    "<div class=\"alert alert-info\">\n",
    "    \n",
    "Явных дубликатов в таблице нет.\n",
    "</div>"
   ]
  },
  {
   "cell_type": "code",
   "execution_count": 8,
   "metadata": {},
   "outputs": [
    {
     "data": {
      "text/html": [
       "<div>\n",
       "<style scoped>\n",
       "    .dataframe tbody tr th:only-of-type {\n",
       "        vertical-align: middle;\n",
       "    }\n",
       "\n",
       "    .dataframe tbody tr th {\n",
       "        vertical-align: top;\n",
       "    }\n",
       "\n",
       "    .dataframe thead th {\n",
       "        text-align: right;\n",
       "    }\n",
       "</style>\n",
       "<table border=\"1\" class=\"dataframe\">\n",
       "  <thead>\n",
       "    <tr style=\"text-align: right;\">\n",
       "      <th></th>\n",
       "      <th>date</th>\n",
       "      <th>group</th>\n",
       "      <th>visitors</th>\n",
       "    </tr>\n",
       "  </thead>\n",
       "  <tbody>\n",
       "    <tr>\n",
       "      <th>0</th>\n",
       "      <td>2019-08-01</td>\n",
       "      <td>A</td>\n",
       "      <td>719</td>\n",
       "    </tr>\n",
       "    <tr>\n",
       "      <th>1</th>\n",
       "      <td>2019-08-02</td>\n",
       "      <td>A</td>\n",
       "      <td>619</td>\n",
       "    </tr>\n",
       "    <tr>\n",
       "      <th>2</th>\n",
       "      <td>2019-08-03</td>\n",
       "      <td>A</td>\n",
       "      <td>507</td>\n",
       "    </tr>\n",
       "    <tr>\n",
       "      <th>3</th>\n",
       "      <td>2019-08-04</td>\n",
       "      <td>A</td>\n",
       "      <td>717</td>\n",
       "    </tr>\n",
       "    <tr>\n",
       "      <th>4</th>\n",
       "      <td>2019-08-05</td>\n",
       "      <td>A</td>\n",
       "      <td>756</td>\n",
       "    </tr>\n",
       "  </tbody>\n",
       "</table>\n",
       "</div>"
      ],
      "text/plain": [
       "         date group  visitors\n",
       "0  2019-08-01     A       719\n",
       "1  2019-08-02     A       619\n",
       "2  2019-08-03     A       507\n",
       "3  2019-08-04     A       717\n",
       "4  2019-08-05     A       756"
      ]
     },
     "execution_count": 8,
     "metadata": {},
     "output_type": "execute_result"
    }
   ],
   "source": [
    "visitors.head(5)"
   ]
  },
  {
   "cell_type": "code",
   "execution_count": 9,
   "metadata": {},
   "outputs": [
    {
     "name": "stdout",
     "output_type": "stream",
     "text": [
      "<class 'pandas.core.frame.DataFrame'>\n",
      "RangeIndex: 62 entries, 0 to 61\n",
      "Data columns (total 3 columns):\n",
      " #   Column    Non-Null Count  Dtype \n",
      "---  ------    --------------  ----- \n",
      " 0   date      62 non-null     object\n",
      " 1   group     62 non-null     object\n",
      " 2   visitors  62 non-null     int64 \n",
      "dtypes: int64(1), object(2)\n",
      "memory usage: 1.6+ KB\n"
     ]
    }
   ],
   "source": [
    "visitors.info()"
   ]
  },
  {
   "cell_type": "code",
   "execution_count": 10,
   "metadata": {},
   "outputs": [
    {
     "name": "stdout",
     "output_type": "stream",
     "text": [
      "Количество дубликатов в таблице Пользователи: 0\n"
     ]
    }
   ],
   "source": [
    "# Теперь проверим на явные дубликаты\n",
    "print(\"Количество дубликатов в таблице Пользователи:\", visitors.duplicated().sum())"
   ]
  },
  {
   "cell_type": "markdown",
   "metadata": {},
   "source": [
    "<div class=\"alert alert-danger\">\n",
    "<b> Комментарий от ревьюера 2</b>\n",
    "\n",
    "Таблицу с посетителями тоже надо проверить на дубликаты.\n",
    "\n",
    "</div>"
   ]
  },
  {
   "cell_type": "markdown",
   "metadata": {},
   "source": [
    "<div class=\"alert alert-info\">\n",
    "    \n",
    "Явных дубликатов так же не нашел.\n",
    "</div>"
   ]
  },
  {
   "cell_type": "markdown",
   "metadata": {},
   "source": [
    "<div class=\"alert alert-success\">\n",
    "<b> Комментарий от ревьюера 3</b>\n",
    "\n",
    "Отлично, теперь у нас есть все основные проверки.\n",
    "\n",
    "</div>"
   ]
  },
  {
   "cell_type": "code",
   "execution_count": 11,
   "metadata": {},
   "outputs": [
    {
     "data": {
      "text/plain": [
       "[490, 610, 718]"
      ]
     },
     "execution_count": 11,
     "metadata": {},
     "output_type": "execute_result"
    }
   ],
   "source": [
    "# Проверим, есть ли пользователи, которые принадлежат к двум разным группам\n",
    "grouped_users = visitors.groupby('visitors')['group'].apply(list)\n",
    "grouped_orders = orders.groupby('visitorId')['group'].apply(list)\n",
    "\n",
    "users_in_multiple_groups = [user for user, groups in grouped_users.items() if len(set(groups)) > 1]\n",
    "users_in_multiple_groups "
   ]
  },
  {
   "cell_type": "markdown",
   "metadata": {},
   "source": [
    "<div class=\"alert alert-block alert-warning\">\n",
    "    \n",
    "**Комментарий от ревьюера 2**\n",
    "    \n",
    "3 пользователя - это не совсем верный результат. Чтобы проверить, есть ли пользователи, которые попадают в обе группы, можно, например, сделать так:\n",
    "    \n",
    "* выделить списки уникальных id пользователей групп А и B из таблицы orders;\n",
    "* конвертировать их в множества set:\n",
    "    \n",
    "https://python-scripts.com/sets#create-sets\n",
    "\n",
    "* найти пересечение множеств:\n",
    "    \n",
    "https://python-scripts.com/sets#set-intersection\n",
    "    \n",
    "При желании функцией len() можно будет посчитать количество таких пользователей. \n",
    "    \n",
    "Также в нашем случае удалять пользователей не нужно. Поскольку таблица с посетителями у нас содержит уже агрегированные данные, ее не получится эффективно очистить.\n",
    "\n",
    "</div>"
   ]
  },
  {
   "cell_type": "code",
   "execution_count": 12,
   "metadata": {},
   "outputs": [
    {
     "data": {
      "text/html": [
       "<div>\n",
       "<style scoped>\n",
       "    .dataframe tbody tr th:only-of-type {\n",
       "        vertical-align: middle;\n",
       "    }\n",
       "\n",
       "    .dataframe tbody tr th {\n",
       "        vertical-align: top;\n",
       "    }\n",
       "\n",
       "    .dataframe thead th {\n",
       "        text-align: right;\n",
       "    }\n",
       "</style>\n",
       "<table border=\"1\" class=\"dataframe\">\n",
       "  <thead>\n",
       "    <tr style=\"text-align: right;\">\n",
       "      <th></th>\n",
       "      <th>date</th>\n",
       "      <th>group</th>\n",
       "      <th>visitors</th>\n",
       "    </tr>\n",
       "  </thead>\n",
       "  <tbody>\n",
       "    <tr>\n",
       "      <th>29</th>\n",
       "      <td>2019-08-30</td>\n",
       "      <td>A</td>\n",
       "      <td>490</td>\n",
       "    </tr>\n",
       "    <tr>\n",
       "      <th>60</th>\n",
       "      <td>2019-08-30</td>\n",
       "      <td>B</td>\n",
       "      <td>490</td>\n",
       "    </tr>\n",
       "  </tbody>\n",
       "</table>\n",
       "</div>"
      ],
      "text/plain": [
       "          date group  visitors\n",
       "29  2019-08-30     A       490\n",
       "60  2019-08-30     B       490"
      ]
     },
     "execution_count": 12,
     "metadata": {},
     "output_type": "execute_result"
    }
   ],
   "source": [
    "visitors.loc[visitors['visitors'] == 490]"
   ]
  },
  {
   "cell_type": "code",
   "execution_count": 13,
   "metadata": {},
   "outputs": [
    {
     "data": {
      "text/html": [
       "<div>\n",
       "<style scoped>\n",
       "    .dataframe tbody tr th:only-of-type {\n",
       "        vertical-align: middle;\n",
       "    }\n",
       "\n",
       "    .dataframe tbody tr th {\n",
       "        vertical-align: top;\n",
       "    }\n",
       "\n",
       "    .dataframe thead th {\n",
       "        text-align: right;\n",
       "    }\n",
       "</style>\n",
       "<table border=\"1\" class=\"dataframe\">\n",
       "  <thead>\n",
       "    <tr style=\"text-align: right;\">\n",
       "      <th></th>\n",
       "      <th>date</th>\n",
       "      <th>group</th>\n",
       "      <th>visitors</th>\n",
       "    </tr>\n",
       "  </thead>\n",
       "  <tbody>\n",
       "    <tr>\n",
       "      <th>7</th>\n",
       "      <td>2019-08-08</td>\n",
       "      <td>A</td>\n",
       "      <td>610</td>\n",
       "    </tr>\n",
       "    <tr>\n",
       "      <th>39</th>\n",
       "      <td>2019-08-09</td>\n",
       "      <td>B</td>\n",
       "      <td>610</td>\n",
       "    </tr>\n",
       "  </tbody>\n",
       "</table>\n",
       "</div>"
      ],
      "text/plain": [
       "          date group  visitors\n",
       "7   2019-08-08     A       610\n",
       "39  2019-08-09     B       610"
      ]
     },
     "execution_count": 13,
     "metadata": {},
     "output_type": "execute_result"
    }
   ],
   "source": [
    "visitors.loc[visitors['visitors'] == 610]"
   ]
  },
  {
   "cell_type": "markdown",
   "metadata": {},
   "source": [
    "<div class=\"alert alert-block alert-warning\">\n",
    "    \n",
    "**Комментарий от ревьюера**\n",
    "\n",
    "Полезно выполнить проверку, не попадают ли какие-то пользователи в обе группы - по таблице с заказами.\n",
    "\n",
    "</div>"
   ]
  },
  {
   "cell_type": "markdown",
   "metadata": {},
   "source": [
    "<div class=\"alert alert-info\">\n",
    "    \n",
    "После проверки видим что есть три пользователя которые находятся в двух группах. И кажется логичным убрать их из обоих групп.\n",
    "</div>"
   ]
  },
  {
   "cell_type": "markdown",
   "metadata": {},
   "source": [
    "Как видим пустых строк у нас нет, но при этом в таблицах Заказов и Пользователей есть столбец с датой. Формат даты - строка. Для удобства расчетов потребуется преобразование формата. "
   ]
  },
  {
   "cell_type": "markdown",
   "metadata": {},
   "source": [
    "#### Шаг 2. Приоритизация гипотез"
   ]
  },
  {
   "cell_type": "markdown",
   "metadata": {},
   "source": [
    "##### Шаг 2.1 Фреймворк ICE"
   ]
  },
  {
   "cell_type": "code",
   "execution_count": 14,
   "metadata": {
    "scrolled": true
   },
   "outputs": [
    {
     "data": {
      "text/html": [
       "<div>\n",
       "<style scoped>\n",
       "    .dataframe tbody tr th:only-of-type {\n",
       "        vertical-align: middle;\n",
       "    }\n",
       "\n",
       "    .dataframe tbody tr th {\n",
       "        vertical-align: top;\n",
       "    }\n",
       "\n",
       "    .dataframe thead th {\n",
       "        text-align: right;\n",
       "    }\n",
       "</style>\n",
       "<table border=\"1\" class=\"dataframe\">\n",
       "  <thead>\n",
       "    <tr style=\"text-align: right;\">\n",
       "      <th></th>\n",
       "      <th>Hypothesis</th>\n",
       "      <th>ICE</th>\n",
       "    </tr>\n",
       "  </thead>\n",
       "  <tbody>\n",
       "    <tr>\n",
       "      <th>8</th>\n",
       "      <td>Запустить акцию, дающую скидку на товар в день рождения</td>\n",
       "      <td>16.20</td>\n",
       "    </tr>\n",
       "    <tr>\n",
       "      <th>0</th>\n",
       "      <td>Добавить два новых канала привлечения трафика, что позволит привлекать на 30% больше пользователей</td>\n",
       "      <td>13.33</td>\n",
       "    </tr>\n",
       "    <tr>\n",
       "      <th>7</th>\n",
       "      <td>Добавить форму подписки на все основные страницы, чтобы собрать базу клиентов для email-рассылок</td>\n",
       "      <td>11.20</td>\n",
       "    </tr>\n",
       "    <tr>\n",
       "      <th>6</th>\n",
       "      <td>Показать на главной странице баннеры с актуальными акциями и распродажами, чтобы увеличить конверсию</td>\n",
       "      <td>8.00</td>\n",
       "    </tr>\n",
       "    <tr>\n",
       "      <th>2</th>\n",
       "      <td>Добавить блоки рекомендаций товаров на сайт интернет магазина, чтобы повысить конверсию и средний чек заказа</td>\n",
       "      <td>7.00</td>\n",
       "    </tr>\n",
       "    <tr>\n",
       "      <th>1</th>\n",
       "      <td>Запустить собственную службу доставки, что сократит срок доставки заказов</td>\n",
       "      <td>2.00</td>\n",
       "    </tr>\n",
       "    <tr>\n",
       "      <th>5</th>\n",
       "      <td>Добавить страницу отзывов клиентов о магазине, что позволит увеличить количество заказов</td>\n",
       "      <td>1.33</td>\n",
       "    </tr>\n",
       "    <tr>\n",
       "      <th>3</th>\n",
       "      <td>Изменить структура категорий, что увеличит конверсию, т.к. пользователи быстрее найдут нужный товар</td>\n",
       "      <td>1.12</td>\n",
       "    </tr>\n",
       "    <tr>\n",
       "      <th>4</th>\n",
       "      <td>Изменить цвет фона главной страницы, чтобы увеличить вовлеченность пользователей</td>\n",
       "      <td>1.00</td>\n",
       "    </tr>\n",
       "  </tbody>\n",
       "</table>\n",
       "</div>"
      ],
      "text/plain": [
       "                                                                                                     Hypothesis  \\\n",
       "8                                                       Запустить акцию, дающую скидку на товар в день рождения   \n",
       "0            Добавить два новых канала привлечения трафика, что позволит привлекать на 30% больше пользователей   \n",
       "7              Добавить форму подписки на все основные страницы, чтобы собрать базу клиентов для email-рассылок   \n",
       "6          Показать на главной странице баннеры с актуальными акциями и распродажами, чтобы увеличить конверсию   \n",
       "2  Добавить блоки рекомендаций товаров на сайт интернет магазина, чтобы повысить конверсию и средний чек заказа   \n",
       "1                                     Запустить собственную службу доставки, что сократит срок доставки заказов   \n",
       "5                      Добавить страницу отзывов клиентов о магазине, что позволит увеличить количество заказов   \n",
       "3           Изменить структура категорий, что увеличит конверсию, т.к. пользователи быстрее найдут нужный товар   \n",
       "4                              Изменить цвет фона главной страницы, чтобы увеличить вовлеченность пользователей   \n",
       "\n",
       "     ICE  \n",
       "8  16.20  \n",
       "0  13.33  \n",
       "7  11.20  \n",
       "6   8.00  \n",
       "2   7.00  \n",
       "1   2.00  \n",
       "5   1.33  \n",
       "3   1.12  \n",
       "4   1.00  "
      ]
     },
     "execution_count": 14,
     "metadata": {},
     "output_type": "execute_result"
    }
   ],
   "source": [
    "# Добавим столбец с расчетом ICE для гипотез и отсортируем по убыванию. \n",
    "hypothesis['ICE'] = round((hypothesis['Impact'] * hypothesis['Confidence']) / hypothesis['Efforts'],2)\n",
    "\n",
    "hypothesis[['Hypothesis', 'ICE']].sort_values('ICE', ascending=False)"
   ]
  },
  {
   "cell_type": "markdown",
   "metadata": {},
   "source": [
    "<div class=\"alert alert-block alert-success\">\n",
    "    \n",
    "**Комментарий от ревьюера**\n",
    "\n",
    "Молодец, что округляешь значения в колонке ICE.\n",
    "</div>"
   ]
  },
  {
   "cell_type": "markdown",
   "metadata": {},
   "source": [
    "Видим что наиболее перспективные гипотезы по ICE - 8, 0, 7"
   ]
  },
  {
   "cell_type": "markdown",
   "metadata": {},
   "source": [
    "##### Шаг 2.2 Фреймворк RICE"
   ]
  },
  {
   "cell_type": "code",
   "execution_count": 15,
   "metadata": {},
   "outputs": [
    {
     "data": {
      "text/html": [
       "<div>\n",
       "<style scoped>\n",
       "    .dataframe tbody tr th:only-of-type {\n",
       "        vertical-align: middle;\n",
       "    }\n",
       "\n",
       "    .dataframe tbody tr th {\n",
       "        vertical-align: top;\n",
       "    }\n",
       "\n",
       "    .dataframe thead th {\n",
       "        text-align: right;\n",
       "    }\n",
       "</style>\n",
       "<table border=\"1\" class=\"dataframe\">\n",
       "  <thead>\n",
       "    <tr style=\"text-align: right;\">\n",
       "      <th></th>\n",
       "      <th>Hypothesis</th>\n",
       "      <th>RICE</th>\n",
       "    </tr>\n",
       "  </thead>\n",
       "  <tbody>\n",
       "    <tr>\n",
       "      <th>7</th>\n",
       "      <td>Добавить форму подписки на все основные страницы, чтобы собрать базу клиентов для email-рассылок</td>\n",
       "      <td>112.0</td>\n",
       "    </tr>\n",
       "    <tr>\n",
       "      <th>2</th>\n",
       "      <td>Добавить блоки рекомендаций товаров на сайт интернет магазина, чтобы повысить конверсию и средний чек заказа</td>\n",
       "      <td>56.0</td>\n",
       "    </tr>\n",
       "    <tr>\n",
       "      <th>0</th>\n",
       "      <td>Добавить два новых канала привлечения трафика, что позволит привлекать на 30% больше пользователей</td>\n",
       "      <td>40.0</td>\n",
       "    </tr>\n",
       "    <tr>\n",
       "      <th>6</th>\n",
       "      <td>Показать на главной странице баннеры с актуальными акциями и распродажами, чтобы увеличить конверсию</td>\n",
       "      <td>40.0</td>\n",
       "    </tr>\n",
       "    <tr>\n",
       "      <th>8</th>\n",
       "      <td>Запустить акцию, дающую скидку на товар в день рождения</td>\n",
       "      <td>16.2</td>\n",
       "    </tr>\n",
       "    <tr>\n",
       "      <th>3</th>\n",
       "      <td>Изменить структура категорий, что увеличит конверсию, т.к. пользователи быстрее найдут нужный товар</td>\n",
       "      <td>9.0</td>\n",
       "    </tr>\n",
       "    <tr>\n",
       "      <th>1</th>\n",
       "      <td>Запустить собственную службу доставки, что сократит срок доставки заказов</td>\n",
       "      <td>4.0</td>\n",
       "    </tr>\n",
       "    <tr>\n",
       "      <th>5</th>\n",
       "      <td>Добавить страницу отзывов клиентов о магазине, что позволит увеличить количество заказов</td>\n",
       "      <td>4.0</td>\n",
       "    </tr>\n",
       "    <tr>\n",
       "      <th>4</th>\n",
       "      <td>Изменить цвет фона главной страницы, чтобы увеличить вовлеченность пользователей</td>\n",
       "      <td>3.0</td>\n",
       "    </tr>\n",
       "  </tbody>\n",
       "</table>\n",
       "</div>"
      ],
      "text/plain": [
       "                                                                                                     Hypothesis  \\\n",
       "7              Добавить форму подписки на все основные страницы, чтобы собрать базу клиентов для email-рассылок   \n",
       "2  Добавить блоки рекомендаций товаров на сайт интернет магазина, чтобы повысить конверсию и средний чек заказа   \n",
       "0            Добавить два новых канала привлечения трафика, что позволит привлекать на 30% больше пользователей   \n",
       "6          Показать на главной странице баннеры с актуальными акциями и распродажами, чтобы увеличить конверсию   \n",
       "8                                                       Запустить акцию, дающую скидку на товар в день рождения   \n",
       "3           Изменить структура категорий, что увеличит конверсию, т.к. пользователи быстрее найдут нужный товар   \n",
       "1                                     Запустить собственную службу доставки, что сократит срок доставки заказов   \n",
       "5                      Добавить страницу отзывов клиентов о магазине, что позволит увеличить количество заказов   \n",
       "4                              Изменить цвет фона главной страницы, чтобы увеличить вовлеченность пользователей   \n",
       "\n",
       "    RICE  \n",
       "7  112.0  \n",
       "2   56.0  \n",
       "0   40.0  \n",
       "6   40.0  \n",
       "8   16.2  \n",
       "3    9.0  \n",
       "1    4.0  \n",
       "5    4.0  \n",
       "4    3.0  "
      ]
     },
     "execution_count": 15,
     "metadata": {},
     "output_type": "execute_result"
    }
   ],
   "source": [
    "# Добавим столбец с расчетом RICE для гипотез и отсортируем по убыванию. \n",
    "hypothesis['RICE'] = round((hypothesis['Reach'] * hypothesis['Impact'] * hypothesis['Confidence']) / hypothesis['Efforts'],2)\n",
    "\n",
    "hypothesis[['Hypothesis', 'RICE']].sort_values('RICE', ascending=False)"
   ]
  },
  {
   "cell_type": "markdown",
   "metadata": {},
   "source": [
    "<div class=\"alert alert-block alert-success\">\n",
    "    \n",
    "**Комментарий от ревьюера**\n",
    "\n",
    "Молодец, что выводишь таблицу дважды, каждый раз с сортировкой по одному из фреймворков - так различия в их работе максимально наглядны.\n",
    "</div>"
   ]
  },
  {
   "cell_type": "markdown",
   "metadata": {},
   "source": [
    "В случае с RICE перспективные гипотезы - 7, 2, 0, 6"
   ]
  },
  {
   "cell_type": "markdown",
   "metadata": {},
   "source": [
    "##### Шаг 2.2 Как изменилась приоритизация гипотез при применении RICE вместо ICE."
   ]
  },
  {
   "cell_type": "code",
   "execution_count": 16,
   "metadata": {},
   "outputs": [
    {
     "data": {
      "text/html": [
       "<div>\n",
       "<style scoped>\n",
       "    .dataframe tbody tr th:only-of-type {\n",
       "        vertical-align: middle;\n",
       "    }\n",
       "\n",
       "    .dataframe tbody tr th {\n",
       "        vertical-align: top;\n",
       "    }\n",
       "\n",
       "    .dataframe thead th {\n",
       "        text-align: right;\n",
       "    }\n",
       "</style>\n",
       "<table border=\"1\" class=\"dataframe\">\n",
       "  <thead>\n",
       "    <tr style=\"text-align: right;\">\n",
       "      <th></th>\n",
       "      <th>Hypothesis</th>\n",
       "      <th>Reach</th>\n",
       "      <th>Impact</th>\n",
       "      <th>Confidence</th>\n",
       "      <th>Efforts</th>\n",
       "      <th>ICE</th>\n",
       "      <th>RICE</th>\n",
       "    </tr>\n",
       "  </thead>\n",
       "  <tbody>\n",
       "    <tr>\n",
       "      <th>0</th>\n",
       "      <td>Добавить два новых канала привлечения трафика, что позволит привлекать на 30% больше пользователей</td>\n",
       "      <td>3</td>\n",
       "      <td>10</td>\n",
       "      <td>8</td>\n",
       "      <td>6</td>\n",
       "      <td>13.33</td>\n",
       "      <td>40.0</td>\n",
       "    </tr>\n",
       "    <tr>\n",
       "      <th>1</th>\n",
       "      <td>Запустить собственную службу доставки, что сократит срок доставки заказов</td>\n",
       "      <td>2</td>\n",
       "      <td>5</td>\n",
       "      <td>4</td>\n",
       "      <td>10</td>\n",
       "      <td>2.00</td>\n",
       "      <td>4.0</td>\n",
       "    </tr>\n",
       "    <tr>\n",
       "      <th>2</th>\n",
       "      <td>Добавить блоки рекомендаций товаров на сайт интернет магазина, чтобы повысить конверсию и средний чек заказа</td>\n",
       "      <td>8</td>\n",
       "      <td>3</td>\n",
       "      <td>7</td>\n",
       "      <td>3</td>\n",
       "      <td>7.00</td>\n",
       "      <td>56.0</td>\n",
       "    </tr>\n",
       "    <tr>\n",
       "      <th>3</th>\n",
       "      <td>Изменить структура категорий, что увеличит конверсию, т.к. пользователи быстрее найдут нужный товар</td>\n",
       "      <td>8</td>\n",
       "      <td>3</td>\n",
       "      <td>3</td>\n",
       "      <td>8</td>\n",
       "      <td>1.12</td>\n",
       "      <td>9.0</td>\n",
       "    </tr>\n",
       "    <tr>\n",
       "      <th>4</th>\n",
       "      <td>Изменить цвет фона главной страницы, чтобы увеличить вовлеченность пользователей</td>\n",
       "      <td>3</td>\n",
       "      <td>1</td>\n",
       "      <td>1</td>\n",
       "      <td>1</td>\n",
       "      <td>1.00</td>\n",
       "      <td>3.0</td>\n",
       "    </tr>\n",
       "    <tr>\n",
       "      <th>5</th>\n",
       "      <td>Добавить страницу отзывов клиентов о магазине, что позволит увеличить количество заказов</td>\n",
       "      <td>3</td>\n",
       "      <td>2</td>\n",
       "      <td>2</td>\n",
       "      <td>3</td>\n",
       "      <td>1.33</td>\n",
       "      <td>4.0</td>\n",
       "    </tr>\n",
       "    <tr>\n",
       "      <th>6</th>\n",
       "      <td>Показать на главной странице баннеры с актуальными акциями и распродажами, чтобы увеличить конверсию</td>\n",
       "      <td>5</td>\n",
       "      <td>3</td>\n",
       "      <td>8</td>\n",
       "      <td>3</td>\n",
       "      <td>8.00</td>\n",
       "      <td>40.0</td>\n",
       "    </tr>\n",
       "    <tr>\n",
       "      <th>7</th>\n",
       "      <td>Добавить форму подписки на все основные страницы, чтобы собрать базу клиентов для email-рассылок</td>\n",
       "      <td>10</td>\n",
       "      <td>7</td>\n",
       "      <td>8</td>\n",
       "      <td>5</td>\n",
       "      <td>11.20</td>\n",
       "      <td>112.0</td>\n",
       "    </tr>\n",
       "    <tr>\n",
       "      <th>8</th>\n",
       "      <td>Запустить акцию, дающую скидку на товар в день рождения</td>\n",
       "      <td>1</td>\n",
       "      <td>9</td>\n",
       "      <td>9</td>\n",
       "      <td>5</td>\n",
       "      <td>16.20</td>\n",
       "      <td>16.2</td>\n",
       "    </tr>\n",
       "  </tbody>\n",
       "</table>\n",
       "</div>"
      ],
      "text/plain": [
       "                                                                                                     Hypothesis  \\\n",
       "0            Добавить два новых канала привлечения трафика, что позволит привлекать на 30% больше пользователей   \n",
       "1                                     Запустить собственную службу доставки, что сократит срок доставки заказов   \n",
       "2  Добавить блоки рекомендаций товаров на сайт интернет магазина, чтобы повысить конверсию и средний чек заказа   \n",
       "3           Изменить структура категорий, что увеличит конверсию, т.к. пользователи быстрее найдут нужный товар   \n",
       "4                              Изменить цвет фона главной страницы, чтобы увеличить вовлеченность пользователей   \n",
       "5                      Добавить страницу отзывов клиентов о магазине, что позволит увеличить количество заказов   \n",
       "6          Показать на главной странице баннеры с актуальными акциями и распродажами, чтобы увеличить конверсию   \n",
       "7              Добавить форму подписки на все основные страницы, чтобы собрать базу клиентов для email-рассылок   \n",
       "8                                                       Запустить акцию, дающую скидку на товар в день рождения   \n",
       "\n",
       "   Reach  Impact  Confidence  Efforts    ICE   RICE  \n",
       "0      3      10           8        6  13.33   40.0  \n",
       "1      2       5           4       10   2.00    4.0  \n",
       "2      8       3           7        3   7.00   56.0  \n",
       "3      8       3           3        8   1.12    9.0  \n",
       "4      3       1           1        1   1.00    3.0  \n",
       "5      3       2           2        3   1.33    4.0  \n",
       "6      5       3           8        3   8.00   40.0  \n",
       "7     10       7           8        5  11.20  112.0  \n",
       "8      1       9           9        5  16.20   16.2  "
      ]
     },
     "execution_count": 16,
     "metadata": {},
     "output_type": "execute_result"
    }
   ],
   "source": [
    "# Для удобства еще раз выведем таблицу Гипотез\n",
    "hypothesis"
   ]
  },
  {
   "cell_type": "markdown",
   "metadata": {},
   "source": [
    "По таблице мы видим что наибольшие Reach и Impact имеет как раз 7 гипотеза. Что и позволяет ей стать наиболее приоритеной в методике RICE. То есть при использовании RICE важное влияние имеют две компоненты:\n",
    "- Сила гипотезы - Impact;\n",
    "- Скольких пользоватлей она затронет - Reach."
   ]
  },
  {
   "cell_type": "markdown",
   "metadata": {},
   "source": [
    "<div class=\"alert alert-block alert-success\">\n",
    "<b>Комментарий ревьюера:</b> Все верно, 7 гипотеза самая приоритетная.\n",
    "</div>"
   ]
  },
  {
   "cell_type": "markdown",
   "metadata": {},
   "source": [
    "#### Шаг 3. Анализ A/B-теста"
   ]
  },
  {
   "cell_type": "markdown",
   "metadata": {},
   "source": [
    "##### Шаг 3.1 График кумулятивной выручки по группам."
   ]
  },
  {
   "cell_type": "code",
   "execution_count": 17,
   "metadata": {},
   "outputs": [],
   "source": [
    "# Первым делом преобразуем столбец даты\n",
    "orders['date'] = pd.to_datetime(orders['date'], format='%Y-%m-%d')\n",
    "visitors['date'] = pd.to_datetime(visitors['date'], format='%Y-%m-%d')"
   ]
  },
  {
   "cell_type": "code",
   "execution_count": 18,
   "metadata": {},
   "outputs": [],
   "source": [
    "# Cоздаем массив уникальных пар значений дат и групп теста\n",
    "datesGroups = orders[['date','group']].drop_duplicates() "
   ]
  },
  {
   "cell_type": "code",
   "execution_count": 19,
   "metadata": {},
   "outputs": [
    {
     "data": {
      "text/html": [
       "<div>\n",
       "<style scoped>\n",
       "    .dataframe tbody tr th:only-of-type {\n",
       "        vertical-align: middle;\n",
       "    }\n",
       "\n",
       "    .dataframe tbody tr th {\n",
       "        vertical-align: top;\n",
       "    }\n",
       "\n",
       "    .dataframe thead th {\n",
       "        text-align: right;\n",
       "    }\n",
       "</style>\n",
       "<table border=\"1\" class=\"dataframe\">\n",
       "  <thead>\n",
       "    <tr style=\"text-align: right;\">\n",
       "      <th></th>\n",
       "      <th>date</th>\n",
       "      <th>group</th>\n",
       "      <th>orders</th>\n",
       "      <th>buyers</th>\n",
       "      <th>revenue</th>\n",
       "      <th>visitors</th>\n",
       "    </tr>\n",
       "  </thead>\n",
       "  <tbody>\n",
       "    <tr>\n",
       "      <th>0</th>\n",
       "      <td>2019-08-01</td>\n",
       "      <td>A</td>\n",
       "      <td>24</td>\n",
       "      <td>20</td>\n",
       "      <td>148579</td>\n",
       "      <td>719</td>\n",
       "    </tr>\n",
       "    <tr>\n",
       "      <th>1</th>\n",
       "      <td>2019-08-01</td>\n",
       "      <td>B</td>\n",
       "      <td>21</td>\n",
       "      <td>20</td>\n",
       "      <td>101217</td>\n",
       "      <td>713</td>\n",
       "    </tr>\n",
       "    <tr>\n",
       "      <th>2</th>\n",
       "      <td>2019-08-02</td>\n",
       "      <td>A</td>\n",
       "      <td>44</td>\n",
       "      <td>38</td>\n",
       "      <td>242401</td>\n",
       "      <td>1338</td>\n",
       "    </tr>\n",
       "    <tr>\n",
       "      <th>3</th>\n",
       "      <td>2019-08-02</td>\n",
       "      <td>B</td>\n",
       "      <td>45</td>\n",
       "      <td>43</td>\n",
       "      <td>266748</td>\n",
       "      <td>1294</td>\n",
       "    </tr>\n",
       "    <tr>\n",
       "      <th>4</th>\n",
       "      <td>2019-08-03</td>\n",
       "      <td>A</td>\n",
       "      <td>68</td>\n",
       "      <td>62</td>\n",
       "      <td>354874</td>\n",
       "      <td>1845</td>\n",
       "    </tr>\n",
       "  </tbody>\n",
       "</table>\n",
       "</div>"
      ],
      "text/plain": [
       "        date group  orders  buyers  revenue  visitors\n",
       "0 2019-08-01     A      24      20   148579       719\n",
       "1 2019-08-01     B      21      20   101217       713\n",
       "2 2019-08-02     A      44      38   242401      1338\n",
       "3 2019-08-02     B      45      43   266748      1294\n",
       "4 2019-08-03     A      68      62   354874      1845"
      ]
     },
     "execution_count": 19,
     "metadata": {},
     "output_type": "execute_result"
    }
   ],
   "source": [
    "# Получаем агрегированные кумулятивные по дням данные о заказах \n",
    "ordersAggregated = datesGroups.apply(\n",
    "    lambda x: orders[\n",
    "        np.logical_and(\n",
    "            orders['date'] <= x['date'], orders['group'] == x['group']\n",
    "        )\n",
    "    ].agg(\n",
    "        {\n",
    "            'date': 'max',\n",
    "            'group': 'max',\n",
    "            'transactionId': 'nunique',\n",
    "            'visitorId': 'nunique',\n",
    "            'revenue': 'sum',\n",
    "        }\n",
    "    ),\n",
    "    axis=1,\n",
    ").sort_values(by=['date', 'group'])\n",
    "\n",
    "# Получаем агрегированные кумулятивные по дням данные о посетителях интернет-магазина \n",
    "visitorsAggregated = datesGroups.apply(\n",
    "    lambda x: visitors[\n",
    "        np.logical_and(\n",
    "            visitors['date'] <= x['date'], visitors['group'] == x['group']\n",
    "        )\n",
    "    ].agg({'date': 'max', 'group': 'max', 'visitors': 'sum'}),\n",
    "    axis=1,\n",
    ").sort_values(by=['date', 'group'])\n",
    "\n",
    "# Объединяем кумулятивные данные в одной таблице и присваиваем ее столбцам понятные названия\n",
    "cumulativeData = ordersAggregated.merge(visitorsAggregated, left_on=['date', 'group'], right_on=['date', 'group'])\n",
    "cumulativeData.columns = ['date', 'group', 'orders', 'buyers', 'revenue', 'visitors']\n",
    "\n",
    "cumulativeData.head(5)"
   ]
  },
  {
   "cell_type": "code",
   "execution_count": 20,
   "metadata": {},
   "outputs": [
    {
     "data": {
      "image/png": "[encoded data removed]",
      "text/plain": [
       "<Figure size 864x504 with 1 Axes>"
      ]
     },
     "metadata": {
      "needs_background": "light"
     },
     "output_type": "display_data"
    }
   ],
   "source": [
    "# Датафрейм с кумулятивным количеством заказов и кумулятивной выручкой по дням в группе А\n",
    "cumulativeRevenueA = cumulativeData[cumulativeData['group']=='A'][['date','revenue', 'orders']]\n",
    "\n",
    "# Датафрейм с кумулятивным количеством заказов и кумулятивной выручкой по дням в группе B\n",
    "cumulativeRevenueB = cumulativeData[cumulativeData['group']=='B'][['date','revenue', 'orders']]\n",
    "\n",
    "# Зададим размер графика и подписи\n",
    "plt.figure(figsize=(12, 7))\n",
    "plt.xlabel(\"Дни\", size=12)\n",
    "plt.ylabel(\"Выручка\", size=12)\n",
    "plt.title(\"Кумулятивная выручка по дням и группам\")\n",
    "\n",
    "# Строим график выручки группы А\n",
    "plt.plot(cumulativeRevenueA['date'], cumulativeRevenueA['revenue'], label='A')\n",
    "\n",
    "# Строим график выручки группы B\n",
    "plt.plot(cumulativeRevenueB['date'], cumulativeRevenueB['revenue'], label='B')\n",
    "\n",
    "plt.legend();"
   ]
  },
  {
   "cell_type": "markdown",
   "metadata": {},
   "source": [
    "<div class=\"alert alert-block alert-danger\">\n",
    "    \n",
    "**Комментарий от ревьюера**\n",
    "\n",
    "Убери, пожалуйста, текстовую строку перед этим и следующими графиками. Для этого в последнюю строку можно добавить ; или добавить последней строкой plt.show().\n",
    "</div>"
   ]
  },
  {
   "cell_type": "markdown",
   "metadata": {},
   "source": [
    "<div class=\"alert alert-info\">\n",
    "    \n",
    "Графики подправил.\n",
    "</div>"
   ]
  },
  {
   "cell_type": "markdown",
   "metadata": {},
   "source": [
    "<div class=\"alert alert-block alert-success\">\n",
    "    \n",
    "**Комментарий от ревьюера 2**\n",
    "\n",
    "Теперь графики оформлены очень аккуратно: есть названия, подписи осей, настроен размер 👍\n",
    "</div>"
   ]
  },
  {
   "cell_type": "markdown",
   "metadata": {},
   "source": [
    "**Вывод:**\n",
    "\n",
    "Видим по графику что в обоих группах выручка до 18.08.2019 растет практически равномерно, а вот после в группе В наблюдается значительный прирост.Это может сигнализировать о всплесках числа заказов, либо о появлении очень дорогих заказов в выборке."
   ]
  },
  {
   "cell_type": "markdown",
   "metadata": {},
   "source": [
    "##### Шаг 3.2 График кумулятивного среднего чека по группам."
   ]
  },
  {
   "cell_type": "code",
   "execution_count": 21,
   "metadata": {},
   "outputs": [
    {
     "data": {
      "image/png": "[encoded data removed]",
      "text/plain": [
       "<Figure size 864x504 with 1 Axes>"
      ]
     },
     "metadata": {
      "needs_background": "light"
     },
     "output_type": "display_data"
    }
   ],
   "source": [
    "# Зададим размер графика и подписи\n",
    "plt.figure(figsize=(12, 7))\n",
    "plt.xlabel(\"Дни\", size=12)\n",
    "plt.ylabel(\"Средний чек\", size=12)\n",
    "plt.title(\"Кумулятивный средний чек по дням и группам\")\n",
    "\n",
    "# Построим графики среднего чека по группам — разделим кумулятивную выручку на кумулятивное число заказов\n",
    "plt.plot(cumulativeRevenueA['date'], cumulativeRevenueA['revenue']/cumulativeRevenueA['orders'], label='A')\n",
    "plt.plot(cumulativeRevenueB['date'], cumulativeRevenueB['revenue']/cumulativeRevenueB['orders'], label='B')\n",
    "plt.legend();"
   ]
  },
  {
   "cell_type": "markdown",
   "metadata": {},
   "source": [
    "**Вывод:**\n",
    "\n",
    "Как и на графике с выручкой видим, что 18.08.2019 в группе В наблюдается резкий скачек. Что может говорить о наличии выбросов и требует дополнительной проверки. При это по группе А средний чек практически стабилизировался."
   ]
  },
  {
   "cell_type": "markdown",
   "metadata": {},
   "source": [
    "<div class=\"alert alert-block alert-success\">\n",
    "    \n",
    "**Комментарий от ревьюера**\n",
    "    \n",
    "Да, резкий рост происходит в ту же дату, что и на предыдущем графике.\n",
    "</div>"
   ]
  },
  {
   "cell_type": "markdown",
   "metadata": {},
   "source": [
    "##### Шаг 3.3 График относительного изменения кумулятивного среднего чека группы B к группе A."
   ]
  },
  {
   "cell_type": "code",
   "execution_count": 22,
   "metadata": {},
   "outputs": [
    {
     "data": {
      "image/png": "[encoded data removed]",
      "text/plain": [
       "<Figure size 864x504 with 1 Axes>"
      ]
     },
     "metadata": {
      "needs_background": "light"
     },
     "output_type": "display_data"
    }
   ],
   "source": [
    "# Собираем данные в одном датафрейме\n",
    "mergedCumulativeRevenue = cumulativeRevenueA.merge(cumulativeRevenueB, \n",
    "                                                   left_on='date', \n",
    "                                                   right_on='date', \n",
    "                                                   how='left', \n",
    "                                                   suffixes=['A', 'B'])\n",
    "\n",
    "# Зададим размер графика и подписи\n",
    "plt.figure(figsize=(12, 7))\n",
    "plt.xlabel(\"Дни\", size=12)\n",
    "plt.ylabel(\"Изменение среднего чека\", size=12)\n",
    "plt.title(\"Относительного изменения кумулятивного среднего чека группы B к группе A\")\n",
    "\n",
    "# Строим отношение средних чеков\n",
    "plt.plot(mergedCumulativeRevenue['date'], \n",
    "         (mergedCumulativeRevenue['revenueB']/mergedCumulativeRevenue['ordersB'])\n",
    "         /(mergedCumulativeRevenue['revenueA']/mergedCumulativeRevenue['ordersA'])-1)\n",
    "\n",
    "# Добавляем ось X\n",
    "plt.axhline(y=0, color='black', linestyle='--');"
   ]
  },
  {
   "cell_type": "markdown",
   "metadata": {},
   "source": [
    "**Вывод:**\n",
    "\n",
    "Видим что результаты теста значительно и резко менялись в несколько дат. Видимо в эти даты и были совершены аномальные заказы."
   ]
  },
  {
   "cell_type": "markdown",
   "metadata": {},
   "source": [
    "<div class=\"alert alert-block alert-success\">\n",
    "    \n",
    "**Комментарий от ревьюера**\n",
    "    \n",
    "Ты прав, возможно, это влияние крупных заказов и выбросов.\n",
    "</div>"
   ]
  },
  {
   "cell_type": "markdown",
   "metadata": {},
   "source": [
    "##### Шаг 3.4 График кумулятивного среднего количества заказов на посетителя по группам."
   ]
  },
  {
   "cell_type": "code",
   "execution_count": 23,
   "metadata": {},
   "outputs": [
    {
     "data": {
      "image/png": "[encoded data removed]",
      "text/plain": [
       "<Figure size 864x504 with 1 Axes>"
      ]
     },
     "metadata": {
      "needs_background": "light"
     },
     "output_type": "display_data"
    }
   ],
   "source": [
    "# Посчитаем кумулятивное среднее количество заказов на посетителя\n",
    "cumulativeData['conversion'] = cumulativeData['orders']/cumulativeData['visitors']\n",
    "\n",
    "# Отделяем данные по группе A\n",
    "cumulativeDataA = cumulativeData[cumulativeData['group']=='A']\n",
    "\n",
    "# Отделяем данные по группе B\n",
    "cumulativeDataB = cumulativeData[cumulativeData['group']=='B']\n",
    "\n",
    "# Зададим размер графика и подписи\n",
    "plt.figure(figsize=(12, 7))\n",
    "plt.xlabel(\"Дни\", size=12)\n",
    "plt.ylabel(\"Среднее количество заказов\", size=12)\n",
    "plt.title(\"Кумулятивное среднее количество заказов на посетителя по группам\")\n",
    "\n",
    "# Строим графики\n",
    "plt.plot(cumulativeDataA['date'], cumulativeDataA['conversion'], label='A')\n",
    "plt.plot(cumulativeDataB['date'], cumulativeDataB['conversion'], label='B')\n",
    "plt.legend()\n",
    "\n",
    "# Задаем масштаб осей\n",
    "plt.axis([dt.datetime(2019, 8, 1), dt.datetime(2019, 9, 1), 0, 0.050]);"
   ]
  },
  {
   "cell_type": "markdown",
   "metadata": {},
   "source": [
    "**Вывод:**\n",
    "\n",
    "По графику видим что в начальных датах теста среднее количество заказов на посетителя группы А было выше. Но со временем данный показатель группы В скорректировался и обошел по значениям группу А. При этом можно сказать что значения величины по группам зафиксировались примерно около одних и тех же значений."
   ]
  },
  {
   "attachments": {
    "image.png": {
     "image/png": "[encoded data removed]"
    }
   },
   "cell_type": "markdown",
   "metadata": {},
   "source": [
    "<div class=\"alert alert-block alert-danger\">\n",
    "    \n",
    "**Комментарий от ревьюера**\n",
    "    \n",
    "Здесь и дальше ты называешь один и тот же показатель иногда \"конверсией\", а иногда \"средним количеством заказов на посетителя\". Вторая формулировка более корректная, так как для расчета конверсии в чистом виде, нам нужны id посетителей. Поправь, пожалуйста, формулировки, это можно сделать с помощью автозамены: в меню Edit ➡ Find and Replace. \n",
    "    \n",
    "Кнопка со скриншота ниже позволяет сделать замены сразу во всех ячейках:\n",
    "    \n",
    "![image.png](attachment:image.png)\n",
    "    \n",
    "</div>"
   ]
  },
  {
   "cell_type": "markdown",
   "metadata": {},
   "source": [
    "<div class=\"alert alert-info\">\n",
    "    \n",
    "Формулировки исправил.\n",
    "</div>"
   ]
  },
  {
   "cell_type": "markdown",
   "metadata": {},
   "source": [
    "<div class=\"alert alert-block alert-success\">\n",
    "    \n",
    "**Комментарий от ревьюера 2**\n",
    "\n",
    "Все верно, формулировки совпадают.\n",
    "</div>"
   ]
  },
  {
   "cell_type": "markdown",
   "metadata": {},
   "source": [
    "##### Шаг 3.5 График относительного изменения кумулятивного среднего количества заказов на посетителя группы B к группе A."
   ]
  },
  {
   "cell_type": "code",
   "execution_count": 24,
   "metadata": {},
   "outputs": [
    {
     "data": {
      "image/png": "[encoded data removed]",
      "text/plain": [
       "<Figure size 864x504 with 1 Axes>"
      ]
     },
     "metadata": {
      "needs_background": "light"
     },
     "output_type": "display_data"
    }
   ],
   "source": [
    "# Объединим таблицы\n",
    "mergedCumulativeConversions = cumulativeDataA[['date','conversion']].merge(cumulativeDataB[['date','conversion']], left_on='date', right_on='date', how='left', suffixes=['A', 'B'])\n",
    "\n",
    "# Зададим размер графика и подписи\n",
    "plt.figure(figsize=(12, 7))\n",
    "plt.xlabel(\"Дни\", size=12)\n",
    "plt.ylabel(\"Среднее количество заказов\", size=12)\n",
    "plt.title(\"График относительного изменения кумулятивного среднего количества заказов\")\n",
    "\n",
    "# Построим график\n",
    "plt.plot(mergedCumulativeConversions['date'], mergedCumulativeConversions['conversionB']\n",
    "         /mergedCumulativeConversions['conversionA']-1, \n",
    "         label=\"Относительный прирост среднего количества заказов группы B относительно группы A\")\n",
    "plt.legend()\n",
    "\n",
    "plt.axhline(y=0, color='black', linestyle='--')\n",
    "plt.axhline(y=0.15, color='grey', linestyle='--')\n",
    "plt.axis([dt.datetime(2019, 8, 1), dt.datetime(2019, 9, 1), -0.5, 0.5]);"
   ]
  },
  {
   "cell_type": "markdown",
   "metadata": {},
   "source": [
    "**Вывод:**\n",
    "    \n",
    "По графику видим, что среднее количество заказов на посетителя группы В почти с самого начала теста лидирует. И закрепилась в районе 15% лучше чем группа А."
   ]
  },
  {
   "cell_type": "markdown",
   "metadata": {},
   "source": [
    "<div class=\"alert alert-block alert-success\">\n",
    "    \n",
    "**Комментарий от ревьюера**\n",
    "    \n",
    "Да, группа В выигрывает на протяжении всего теста.\n",
    "</div>"
   ]
  },
  {
   "cell_type": "markdown",
   "metadata": {},
   "source": [
    "##### Шаг 3.6 Точечный график количества заказов по пользователям."
   ]
  },
  {
   "cell_type": "code",
   "execution_count": 25,
   "metadata": {},
   "outputs": [
    {
     "data": {
      "text/html": [
       "<div>\n",
       "<style scoped>\n",
       "    .dataframe tbody tr th:only-of-type {\n",
       "        vertical-align: middle;\n",
       "    }\n",
       "\n",
       "    .dataframe tbody tr th {\n",
       "        vertical-align: top;\n",
       "    }\n",
       "\n",
       "    .dataframe thead th {\n",
       "        text-align: right;\n",
       "    }\n",
       "</style>\n",
       "<table border=\"1\" class=\"dataframe\">\n",
       "  <thead>\n",
       "    <tr style=\"text-align: right;\">\n",
       "      <th></th>\n",
       "      <th>userId</th>\n",
       "      <th>orders</th>\n",
       "    </tr>\n",
       "  </thead>\n",
       "  <tbody>\n",
       "    <tr>\n",
       "      <th>1023</th>\n",
       "      <td>4256040402</td>\n",
       "      <td>11</td>\n",
       "    </tr>\n",
       "    <tr>\n",
       "      <th>591</th>\n",
       "      <td>2458001652</td>\n",
       "      <td>11</td>\n",
       "    </tr>\n",
       "    <tr>\n",
       "      <th>569</th>\n",
       "      <td>2378935119</td>\n",
       "      <td>9</td>\n",
       "    </tr>\n",
       "    <tr>\n",
       "      <th>487</th>\n",
       "      <td>2038680547</td>\n",
       "      <td>8</td>\n",
       "    </tr>\n",
       "    <tr>\n",
       "      <th>44</th>\n",
       "      <td>199603092</td>\n",
       "      <td>5</td>\n",
       "    </tr>\n",
       "    <tr>\n",
       "      <th>744</th>\n",
       "      <td>3062433592</td>\n",
       "      <td>5</td>\n",
       "    </tr>\n",
       "    <tr>\n",
       "      <th>55</th>\n",
       "      <td>237748145</td>\n",
       "      <td>5</td>\n",
       "    </tr>\n",
       "    <tr>\n",
       "      <th>917</th>\n",
       "      <td>3803269165</td>\n",
       "      <td>5</td>\n",
       "    </tr>\n",
       "    <tr>\n",
       "      <th>299</th>\n",
       "      <td>1230306981</td>\n",
       "      <td>5</td>\n",
       "    </tr>\n",
       "    <tr>\n",
       "      <th>897</th>\n",
       "      <td>3717692402</td>\n",
       "      <td>5</td>\n",
       "    </tr>\n",
       "  </tbody>\n",
       "</table>\n",
       "</div>"
      ],
      "text/plain": [
       "          userId  orders\n",
       "1023  4256040402      11\n",
       "591   2458001652      11\n",
       "569   2378935119       9\n",
       "487   2038680547       8\n",
       "44     199603092       5\n",
       "744   3062433592       5\n",
       "55     237748145       5\n",
       "917   3803269165       5\n",
       "299   1230306981       5\n",
       "897   3717692402       5"
      ]
     },
     "execution_count": 25,
     "metadata": {},
     "output_type": "execute_result"
    }
   ],
   "source": [
    "# Подсчитаем количество заказов по пользователям\n",
    "ordersByUsers = (\n",
    "    orders.groupby('visitorId', as_index=False)\n",
    "    .agg({'transactionId': 'nunique'})\n",
    ")\n",
    "\n",
    "ordersByUsers.columns = ['userId', 'orders']\n",
    "ordersByUsers.sort_values(by='orders', ascending=False).head(10)"
   ]
  },
  {
   "cell_type": "code",
   "execution_count": 26,
   "metadata": {},
   "outputs": [
    {
     "data": {
      "image/png": "[encoded data removed]",
      "text/plain": [
       "<Figure size 864x504 with 1 Axes>"
      ]
     },
     "metadata": {
      "needs_background": "light"
     },
     "output_type": "display_data"
    }
   ],
   "source": [
    "# Построим график\n",
    "x_values = pd.Series(range(0,len(ordersByUsers)))\n",
    "\n",
    "# Зададим размер графика и подписи\n",
    "plt.figure(figsize=(12, 7))\n",
    "plt.xlabel(\"Количество пользователей\", size=12)\n",
    "plt.ylabel(\"Количество заказов\", size=12)\n",
    "plt.title(\"Количество заказов по пользователям\")\n",
    "\n",
    "plt.scatter(x_values, ordersByUsers['orders']);"
   ]
  },
  {
   "cell_type": "markdown",
   "metadata": {},
   "source": [
    "**Вывод:**\n",
    "\n",
    "По графику видим что большая часть пользователей соверщает 1-2 заказа. Начиная с 3 заказов количество таких пользователей значительно сокращается. Можно предположить что количество заказов более 3 являеются аномальным."
   ]
  },
  {
   "cell_type": "markdown",
   "metadata": {},
   "source": [
    "##### Шаг 3.7 95-й и 99-й перцентили количества заказов на пользователя."
   ]
  },
  {
   "cell_type": "code",
   "execution_count": 27,
   "metadata": {},
   "outputs": [
    {
     "data": {
      "text/plain": [
       "array([1., 2., 4.])"
      ]
     },
     "execution_count": 27,
     "metadata": {},
     "output_type": "execute_result"
    }
   ],
   "source": [
    "# Расчитаем перцинтили\n",
    "pam = np.percentile(ordersByUsers['orders'], [90, 95, 99])\n",
    "pam"
   ]
  },
  {
   "cell_type": "markdown",
   "metadata": {},
   "source": [
    "**Вывод:**\n",
    "\n",
    "Из расчета перцентилей видим, что не больше 5% пользоватлей оформляли более 2 заказов, а не более 1% больше 4. Поэтому целесообразно взять 2 заказа на одного пользователя за верхнюю границу числа заказов."
   ]
  },
  {
   "cell_type": "markdown",
   "metadata": {},
   "source": [
    "<div class=\"alert alert-block alert-success\">\n",
    "    \n",
    "**Комментарий от ревьюера**\n",
    "    \n",
    "Такое определение выбросов для количества заказов корректно.\n",
    "</div>"
   ]
  },
  {
   "cell_type": "markdown",
   "metadata": {},
   "source": [
    "##### Шаг 3.8 Точечный график стоимостей заказов."
   ]
  },
  {
   "cell_type": "code",
   "execution_count": 28,
   "metadata": {},
   "outputs": [
    {
     "data": {
      "image/png": "[encoded data removed]",
      "text/plain": [
       "<Figure size 864x504 with 1 Axes>"
      ]
     },
     "metadata": {
      "needs_background": "light"
     },
     "output_type": "display_data"
    }
   ],
   "source": [
    "# Построим график\n",
    "x_values = pd.Series(range(0, len(orders['revenue'])))\n",
    "\n",
    "# Зададим размер графика и подписи\n",
    "plt.figure(figsize=(12, 7))\n",
    "plt.xlabel(\"Стоимость заказа\", size=12)\n",
    "plt.ylabel(\"Количество заказов\", size=12)\n",
    "plt.title(\"График стоимостей заказов\")\n",
    "\n",
    "plt.scatter(x_values, orders['revenue']);"
   ]
  },
  {
   "cell_type": "code",
   "execution_count": 29,
   "metadata": {},
   "outputs": [
    {
     "data": {
      "image/png": "[encoded data removed]",
      "text/plain": [
       "<Figure size 864x504 with 1 Axes>"
      ]
     },
     "metadata": {
      "needs_background": "light"
     },
     "output_type": "display_data"
    }
   ],
   "source": [
    "# Посмотрим более детально\n",
    "plt.figure(figsize=(12, 7))\n",
    "plt.xlabel(\"Стоимость заказа\", size=12)\n",
    "plt.ylabel(\"Количество заказов\", size=12)\n",
    "plt.title(\"График стоимостей заказов\")\n",
    "plt.ylim(0, 100000)\n",
    "plt.scatter(x_values, orders['revenue']);"
   ]
  },
  {
   "cell_type": "markdown",
   "metadata": {},
   "source": [
    "<div class=\"alert alert-block alert-warning\">\n",
    "    \n",
    "**Комментарий от ревьюера**\n",
    "\n",
    "Полезно добавить еще один график, ограничив значения по оси Y. Чтобы двух явных выбросов не было видно, а мы могли рассмотреть основную часть заказов.\n",
    "\n",
    "</div>"
   ]
  },
  {
   "cell_type": "markdown",
   "metadata": {},
   "source": [
    "<div class=\"alert alert-info\">\n",
    "    \n",
    "График добавил.\n",
    "</div>"
   ]
  },
  {
   "cell_type": "markdown",
   "metadata": {},
   "source": [
    "<div class=\"alert alert-block alert-success\">\n",
    "    \n",
    "**Комментарий от ревьюера 2**\n",
    "    \n",
    "Удобно, когда можно рассмотреть и выбросы, и основную часть заказов.\n",
    "</div>"
   ]
  },
  {
   "cell_type": "markdown",
   "metadata": {},
   "source": [
    "**Вывод:**\n",
    "\n",
    "По графику видим что есть явные выбросы в районе 200 тыс и 1 млн 200 тыс. При этом большая часть заказов не превышает 50 тыс. Чтобы более точно определить выбросы так же найдем перцентили."
   ]
  },
  {
   "cell_type": "markdown",
   "metadata": {},
   "source": [
    "##### Шаг 3.9 95-й и 99-й перцентили стоимости заказов."
   ]
  },
  {
   "cell_type": "code",
   "execution_count": 30,
   "metadata": {},
   "outputs": [
    {
     "data": {
      "text/plain": [
       "array([18168. , 28000. , 58233.2])"
      ]
     },
     "execution_count": 30,
     "metadata": {},
     "output_type": "execute_result"
    }
   ],
   "source": [
    "# Найдем перцентили\n",
    "pco = np.percentile(orders['revenue'], [90, 95, 99])\n",
    "pco"
   ]
  },
  {
   "cell_type": "markdown",
   "metadata": {},
   "source": [
    "**Вывод:**\n",
    "\n",
    "Из расчета перцентилей видим, что не больше 5% заказов дороже 28 тыс, а не более 1% дороже 59 тыс. Поэтому целесообразно взять 28 тыс. за верхнюю границу числа заказов."
   ]
  },
  {
   "cell_type": "markdown",
   "metadata": {},
   "source": [
    "<div class=\"alert alert-block alert-warning\">\n",
    "    \n",
    "**Комментарий от ревьюера**\n",
    "\n",
    "Такой выбор границы выбросов получается не совсем удобным. Если сейчас тебя спросят, по какому перцентилю ты провел границу выбросов, ты не сможешь точно ответить. Лучше определять выбросы по тому перцентилю, показатели по которому были рассчитаны. Или рассчитать перцентиль для той стоимости заказов, которую ты выбираешь как границу выбросов.\n",
    "\n",
    "</div>"
   ]
  },
  {
   "cell_type": "markdown",
   "metadata": {},
   "source": [
    "<div class=\"alert alert-info\">\n",
    "    \n",
    "С коментариями однозначно согласен. Только смущает что в уроке в обоих задачах бралась величина между 95 и 99 перцентилем.\n",
    "Исправил вержнюю границу на 95 перцентиль.\n",
    "</div>"
   ]
  },
  {
   "cell_type": "markdown",
   "metadata": {},
   "source": [
    "<div class=\"alert alert-block alert-success\">\n",
    "    \n",
    "**Комментарий от ревьюера 2**\n",
    "    \n",
    "В уроке такой выбор мог быть сделан для упрощения, чтобы границу выбросов было лучше видно в коде.\n",
    "</div>"
   ]
  },
  {
   "cell_type": "markdown",
   "metadata": {},
   "source": [
    "##### Шаг 3.10 Статистическая значимость различий в среднем количестве заказов на посетителя между группами по «сырым» данным.\n"
   ]
  },
  {
   "cell_type": "markdown",
   "metadata": {},
   "source": [
    "Начнем с того что у нас будет две гипотезы:\n",
    "- Нулевая: Статистически значимых различий в среднем количестве заказов между группами нет. \n",
    "- Альтернативная: Статистически значимые различия в среднем количестве заказов между группами есть.\n",
    "\n",
    "Для проверки будем использовать непараметрический тест Уилкоксона-Манна-Уитни. Так как есть предположения что у нас имеются выбросы.\n",
    "\n",
    "Возьмем alpha = 0,05"
   ]
  },
  {
   "cell_type": "markdown",
   "metadata": {},
   "source": [
    "<div class=\"alert alert-block alert-warning\">\n",
    "    \n",
    "**Комментарий от ревьюера**\n",
    "    \n",
    "Формулировки гипотез можно дополнить, чтобы в них было указание на то, что нас интересуют именно статистически значимые различия. Например, так:\n",
    " \n",
    "**Нулевая гипотеза** Статистически значимых различий в ... между группами по ... данным нет.\n",
    "\n",
    "**Альтернативная гипотеза** Статистически значимые различия в ... между группами по ... данным есть.\n",
    "  \n",
    "</div>"
   ]
  },
  {
   "cell_type": "markdown",
   "metadata": {},
   "source": [
    "<div class=\"alert alert-block alert-danger\">\n",
    "    \n",
    "**Комментарий от ревьюера**\n",
    "    \n",
    "Нужно еще указать выбранное значение alpha перед проверкой и пояснить, какой метод будет использоваться для проверки гипотез и почему.\n",
    "</div>"
   ]
  },
  {
   "cell_type": "markdown",
   "metadata": {},
   "source": [
    "<div class=\"alert alert-info\">\n",
    "    \n",
    "Скорректировал описание гипотез, добавил альфа и метод.\n",
    "</div>"
   ]
  },
  {
   "cell_type": "markdown",
   "metadata": {},
   "source": [
    "<div class=\"alert alert-block alert-success\">\n",
    "    \n",
    "**Комментарий от ревьюера 2**\n",
    "\n",
    "Хорошо получилось, так сразу понятна суть расчета.\n",
    "</div>"
   ]
  },
  {
   "cell_type": "code",
   "execution_count": 31,
   "metadata": {},
   "outputs": [
    {
     "data": {
      "text/html": [
       "<div>\n",
       "<style scoped>\n",
       "    .dataframe tbody tr th:only-of-type {\n",
       "        vertical-align: middle;\n",
       "    }\n",
       "\n",
       "    .dataframe tbody tr th {\n",
       "        vertical-align: top;\n",
       "    }\n",
       "\n",
       "    .dataframe thead th {\n",
       "        text-align: right;\n",
       "    }\n",
       "</style>\n",
       "<table border=\"1\" class=\"dataframe\">\n",
       "  <thead>\n",
       "    <tr style=\"text-align: right;\">\n",
       "      <th></th>\n",
       "      <th>date</th>\n",
       "      <th>ordersPerDateA</th>\n",
       "      <th>revenuePerDateA</th>\n",
       "      <th>ordersPerDateB</th>\n",
       "      <th>revenuePerDateB</th>\n",
       "      <th>visitorsPerDateA</th>\n",
       "      <th>visitorsPerDateB</th>\n",
       "    </tr>\n",
       "  </thead>\n",
       "  <tbody>\n",
       "    <tr>\n",
       "      <th>0</th>\n",
       "      <td>2019-08-01</td>\n",
       "      <td>24</td>\n",
       "      <td>148579</td>\n",
       "      <td>21</td>\n",
       "      <td>101217</td>\n",
       "      <td>719</td>\n",
       "      <td>713</td>\n",
       "    </tr>\n",
       "    <tr>\n",
       "      <th>1</th>\n",
       "      <td>2019-08-02</td>\n",
       "      <td>20</td>\n",
       "      <td>93822</td>\n",
       "      <td>24</td>\n",
       "      <td>165531</td>\n",
       "      <td>619</td>\n",
       "      <td>581</td>\n",
       "    </tr>\n",
       "    <tr>\n",
       "      <th>2</th>\n",
       "      <td>2019-08-03</td>\n",
       "      <td>24</td>\n",
       "      <td>112473</td>\n",
       "      <td>16</td>\n",
       "      <td>114248</td>\n",
       "      <td>507</td>\n",
       "      <td>509</td>\n",
       "    </tr>\n",
       "    <tr>\n",
       "      <th>3</th>\n",
       "      <td>2019-08-04</td>\n",
       "      <td>16</td>\n",
       "      <td>70825</td>\n",
       "      <td>17</td>\n",
       "      <td>108571</td>\n",
       "      <td>717</td>\n",
       "      <td>770</td>\n",
       "    </tr>\n",
       "    <tr>\n",
       "      <th>4</th>\n",
       "      <td>2019-08-05</td>\n",
       "      <td>25</td>\n",
       "      <td>124218</td>\n",
       "      <td>23</td>\n",
       "      <td>92428</td>\n",
       "      <td>756</td>\n",
       "      <td>707</td>\n",
       "    </tr>\n",
       "  </tbody>\n",
       "</table>\n",
       "</div>"
      ],
      "text/plain": [
       "        date  ordersPerDateA  revenuePerDateA  ordersPerDateB  \\\n",
       "0 2019-08-01              24           148579              21   \n",
       "1 2019-08-02              20            93822              24   \n",
       "2 2019-08-03              24           112473              16   \n",
       "3 2019-08-04              16            70825              17   \n",
       "4 2019-08-05              25           124218              23   \n",
       "\n",
       "   revenuePerDateB  visitorsPerDateA  visitorsPerDateB  \n",
       "0           101217               719               713  \n",
       "1           165531               619               581  \n",
       "2           114248               507               509  \n",
       "3           108571               717               770  \n",
       "4            92428               756               707  "
      ]
     },
     "execution_count": 31,
     "metadata": {},
     "output_type": "execute_result"
    }
   ],
   "source": [
    "# Соберем таблицу с пользователями по группе А и с заказами\n",
    "visitorsADaily = visitors[visitors['group'] == 'A'][['date', 'visitors']]\n",
    "visitorsADaily.columns = ['date', 'visitorsPerDateA']\n",
    "\n",
    "ordersADaily = (\n",
    "    orders[orders['group'] == 'A'][['date', 'transactionId', 'visitorId', 'revenue']]\n",
    "    .groupby('date', as_index=False)\n",
    "    .agg({'transactionId': pd.Series.nunique, 'revenue': 'sum'})\n",
    ")\n",
    "ordersADaily.columns = ['date', 'ordersPerDateA', 'revenuePerDateA']\n",
    "\n",
    "# Повторим действия для группы В\n",
    "visitorsBDaily = visitors[visitors['group'] == 'B'][['date', 'visitors']]\n",
    "visitorsBDaily.columns = ['date', 'visitorsPerDateB']\n",
    "\n",
    "ordersBDaily = (\n",
    "    orders[orders['group'] == 'B'][['date', 'transactionId', 'visitorId', 'revenue']]\n",
    "    .groupby('date', as_index=False)\n",
    "    .agg({'transactionId': pd.Series.nunique, 'revenue': 'sum'})\n",
    ")\n",
    "ordersBDaily.columns = ['date', 'ordersPerDateB', 'revenuePerDateB']\n",
    "\n",
    "# В результате все полученные таблицы смержим в одну\n",
    "data = (\n",
    "    ordersADaily.merge(\n",
    "        ordersBDaily, left_on='date', right_on='date', how='left'\n",
    "    )\n",
    "    .merge(visitorsADaily, left_on='date', right_on='date', how='left')\n",
    "    .merge(visitorsBDaily, left_on='date', right_on='date', how='left')\n",
    ")\n",
    "\n",
    "data.head(5)"
   ]
  },
  {
   "cell_type": "markdown",
   "metadata": {},
   "source": [
    "<div class=\"alert alert-block alert-warning\">\n",
    "    \n",
    "**Комментарий от ревьюера**\n",
    "\n",
    "Этот код можно сократить: нам не нужно собирать кумулятивные данные для проверки гипотез, потому что это уже сделано выше.\n",
    "\n",
    "</div>"
   ]
  },
  {
   "cell_type": "markdown",
   "metadata": {},
   "source": [
    "<div class=\"alert alert-info\">\n",
    "    \n",
    "Код скорректировал.\n",
    "</div>"
   ]
  },
  {
   "cell_type": "markdown",
   "metadata": {},
   "source": [
    "<div class=\"alert alert-block alert-danger\">\n",
    "    \n",
    "**Комментарий от ревьюера 2**\n",
    "    \n",
    "Здесь надо было сделать немного по-другому. Не удалять часть кода с группой А, а удалить из него все, у чего cumulative в названии (в том числе из объединения в таблицу). Когда будет готово, проверь, пожалуйста, что код не падает: перезапусти все ячейки (в меню Kernel > Restart & Run All).\n",
    "</div>"
   ]
  },
  {
   "cell_type": "markdown",
   "metadata": {},
   "source": [
    "<div class=\"alert alert-info\">\n",
    "    \n",
    "Теперь работает\n",
    "</div>"
   ]
  },
  {
   "cell_type": "markdown",
   "metadata": {},
   "source": [
    "<div class=\"alert alert-success\">\n",
    "<b> Комментарий от ревьюера 3</b>\n",
    "\n",
    "Да, теперь проект запустился полностью. \n",
    "\n",
    "</div>"
   ]
  },
  {
   "cell_type": "code",
   "execution_count": 32,
   "metadata": {},
   "outputs": [],
   "source": [
    "# Создадим переменные ordersByUsersA и ordersByUsersB со столбцами ['userId', 'orders']. \n",
    "# В них для пользователей, которые заказывали хотя бы 1 раз, укажем число совершённых заказов\n",
    "ordersByUsersA = (\n",
    "    orders[orders['group'] == 'A']\n",
    "    .groupby('visitorId', as_index=False)\n",
    "    .agg({'transactionId': pd.Series.nunique})\n",
    ")\n",
    "ordersByUsersA.columns = ['userId', 'orders']\n",
    "\n",
    "ordersByUsersB = (\n",
    "    orders[orders['group'] == 'B']\n",
    "    .groupby('visitorId', as_index=False)\n",
    "    .agg({'transactionId': pd.Series.nunique})\n",
    ")\n",
    "ordersByUsersB.columns = ['userId', 'orders'] "
   ]
  },
  {
   "cell_type": "code",
   "execution_count": 33,
   "metadata": {},
   "outputs": [],
   "source": [
    "# Дальше передадим аргумент, сообщающий, что объекты Series нужно объединить по строкам \n",
    "sampleA = pd.concat([ordersByUsersA['orders'],\n",
    "                     pd.Series(0, \n",
    "                               index=np.arange(data['visitorsPerDateA'].sum() - len(ordersByUsersA['orders'])), \n",
    "                               name='orders')],\n",
    "                     axis=0)\n",
    "\n",
    "sampleB = pd.concat([ordersByUsersB['orders'],\n",
    "                     pd.Series(0, \n",
    "                               index=np.arange(data['visitorsPerDateB'].sum() - len(ordersByUsersB['orders'])), \n",
    "                               name='orders')],\n",
    "                     axis=0)"
   ]
  },
  {
   "cell_type": "code",
   "execution_count": 34,
   "metadata": {},
   "outputs": [
    {
     "name": "stdout",
     "output_type": "stream",
     "text": [
      "p-value: 0.017\n",
      "различия: 0.138\n"
     ]
    }
   ],
   "source": [
    "# Применим критерий и отформатируем p-value, округлив его до трёх знаков после запятой.\n",
    "# Выведем относительный прирост среднего числа заказов группы B. Округлим до трёх знаков после запятой\n",
    "\n",
    "print(\"p-value: {0:.3f}\".format(stats.mannwhitneyu(sampleA, sampleB)[1]))\n",
    "print(\"различия: {0:.3f}\".format(sampleB.mean() / sampleA.mean() - 1))"
   ]
  },
  {
   "cell_type": "markdown",
   "metadata": {},
   "source": [
    "<div class=\"alert alert-block alert-warning\">\n",
    "    \n",
    "**Комментарий от ревьюера**\n",
    "\n",
    "Если заменить display на print, кавычки пропадут.\n",
    "\n",
    "</div>"
   ]
  },
  {
   "cell_type": "markdown",
   "metadata": {},
   "source": [
    "<div class=\"alert alert-info\">\n",
    "    \n",
    "Исправил на print.\n",
    "</div>"
   ]
  },
  {
   "cell_type": "markdown",
   "metadata": {},
   "source": [
    "**Вывод:**\n",
    "\n",
    "P-value меньше стандартных 0,05, поэтому нулевую гипотезу отвергаем. Анализ \"сырых\" данных показывает, что в среднем количестве заказов между группами есть статистически значимые отличия. Относительный прирост среднего группы В к показателю группы А равен 13,8%."
   ]
  },
  {
   "cell_type": "markdown",
   "metadata": {},
   "source": [
    "<div class=\"alert alert-block alert-success\">\n",
    "    \n",
    "**Комментарий от ревьюера**\n",
    "\n",
    "Верно, отвергаем нулевую гипотезу: между группами есть статистически значимое различие.\n",
    "</div>"
   ]
  },
  {
   "cell_type": "markdown",
   "metadata": {},
   "source": [
    "##### Шаг 3.11 Статистическая значимость различий в среднем чеке заказа между группами по «сырым» данным."
   ]
  },
  {
   "cell_type": "markdown",
   "metadata": {},
   "source": [
    "Для проверки статистической значимости различий в среднем чеке заказа между группами по «сырым» данным будем использовать такие гипотезы:\n",
    "- Нулевая гипотеза: Статистически значимых различий в среднем чеке между группами нет. \n",
    "- Альтернативная гипотеза: Статистически значимые различия в среднем чеке между группами есть."
   ]
  },
  {
   "cell_type": "markdown",
   "metadata": {},
   "source": [
    "Чтобы рассчитать статистическую значимость различий в среднем чеке, передадим критерию mannwhitneyu() данные о выручке с заказов. "
   ]
  },
  {
   "cell_type": "code",
   "execution_count": 35,
   "metadata": {},
   "outputs": [
    {
     "name": "stdout",
     "output_type": "stream",
     "text": [
      "p-value: 0.729\n",
      "различия: 0.259\n"
     ]
    }
   ],
   "source": [
    "print('p-value: {0:.3f}'.format(stats.mannwhitneyu(orders[orders['group']=='A']['revenue'], \n",
    "                                                     orders[orders['group']=='B']['revenue'])[1]))\n",
    "print('различия: {0:.3f}'.format(orders[orders['group']=='B']['revenue'].mean()\n",
    "                                   /orders[orders['group']=='A']['revenue'].mean()-1)) "
   ]
  },
  {
   "cell_type": "markdown",
   "metadata": {},
   "source": [
    "**Вывод:**\n",
    "\n",
    "P-value больше 0,05 следовательно нулевую гипотезу мы не отвергаем. Статистически значимых отличий в среднем чеке нет. Относительное различие между сегментами 25,9%"
   ]
  },
  {
   "cell_type": "markdown",
   "metadata": {},
   "source": [
    "<div class=\"alert alert-block alert-danger\">\n",
    "    \n",
    "**Комментарий от ревьюера**\n",
    "\n",
    "Здесь и в следующих двух расчетах надо также указать, можем ли мы отвергнуть нулевую гипотезу.\n",
    "</div>"
   ]
  },
  {
   "cell_type": "markdown",
   "metadata": {},
   "source": [
    "<div class=\"alert alert-info\">\n",
    "    \n",
    "Указал.\n",
    "</div>"
   ]
  },
  {
   "cell_type": "markdown",
   "metadata": {},
   "source": [
    "<div class=\"alert alert-block alert-success\">\n",
    "    \n",
    "**Комментарий от ревьюера 2**\n",
    "\n",
    "Да, здесь мы не можем отвергнуть нулевую гипотезу.\n",
    "</div>"
   ]
  },
  {
   "cell_type": "markdown",
   "metadata": {},
   "source": [
    "##### Шаг 3.12 Статистическая значимость различий в среднем количестве заказов на посетителя между группами по «очищенным» данным."
   ]
  },
  {
   "cell_type": "markdown",
   "metadata": {},
   "source": [
    "Примем за аномальных пользователей тех, кто совершил больше 2 заказов или совершил заказ дороже 30 000 рублей."
   ]
  },
  {
   "cell_type": "code",
   "execution_count": 36,
   "metadata": {},
   "outputs": [
    {
     "data": {
      "text/plain": [
       "74"
      ]
     },
     "execution_count": 36,
     "metadata": {},
     "output_type": "execute_result"
    }
   ],
   "source": [
    "# Так как таблицы ordersByUsersA и ordersByUsersB у нас уже есть, будем использовать их для фильтрации по нужным нам критериям\n",
    "usersWithManyOrders = pd.concat(\n",
    "    [\n",
    "        ordersByUsersA[ordersByUsersA['orders'] > pam[1]]['userId'],\n",
    "        ordersByUsersB[ordersByUsersB['orders'] > pam[1]]['userId'],\n",
    "    ],\n",
    "    axis=0,\n",
    ")\n",
    "usersWithExpensiveOrders = orders[orders['revenue'] > pco[1]]['visitorId']\n",
    "abnormalUsers = (\n",
    "    pd.concat([usersWithManyOrders, usersWithExpensiveOrders], axis=0)\n",
    "    .drop_duplicates()\n",
    "    .sort_values()\n",
    ")\n",
    "\n",
    "# Посмотрим сколько в таком случае будет аномальных пользователей\n",
    "abnormalUsers.shape[0]"
   ]
  },
  {
   "cell_type": "markdown",
   "metadata": {},
   "source": [
    "<div class=\"alert alert-block alert-warning\">\n",
    "    \n",
    "**Комментарий от ревьюера**\n",
    "\n",
    "Лучше избегать ручного ввода значений при фильтрации: можно использовать непосредственно результат расчета выбранного перцентиля. \n",
    "\n",
    "</div>"
   ]
  },
  {
   "cell_type": "markdown",
   "metadata": {},
   "source": [
    "<div class=\"alert alert-info\">\n",
    "    \n",
    "Исправил код.\n",
    "</div>"
   ]
  },
  {
   "cell_type": "markdown",
   "metadata": {},
   "source": [
    "<div class=\"alert alert-block alert-success\">\n",
    "    \n",
    "**Комментарий от ревьюера 2**\n",
    "\n",
    "Так не придется менять вписанные вручную числа, если поменяются данные.\n",
    "</div>"
   ]
  },
  {
   "cell_type": "markdown",
   "metadata": {},
   "source": [
    "Видим что всего получилось 74 пользователя кто совершил 3 и более заказа или приобрел на сумму более 28000 рублей."
   ]
  },
  {
   "cell_type": "markdown",
   "metadata": {},
   "source": [
    "Еще раз укажем гипотезы:\n",
    "- Нулевая: Статистически значимых различий в среднем количестве заказов между группами нет.\n",
    "- Альтернативная: Статистически значимые различия в среднем количестве заказов между группами есть.\n",
    "\n",
    "Для проверки будем использовать непараметрический тест Уилкоксона-Манна-Уитни. \n",
    "\n",
    "alpha = 0,05"
   ]
  },
  {
   "cell_type": "code",
   "execution_count": 37,
   "metadata": {},
   "outputs": [],
   "source": [
    "# Узнаем, как их действия повлияли на результаты теста\n",
    "# Создаем переменные sampleAFiltered и sampleBFiltered, в которых сохраним очищенные данные о заказах.\n",
    "sampleAFiltered = pd.concat(\n",
    "    [\n",
    "        ordersByUsersA[\n",
    "            np.logical_not(ordersByUsersA['userId'].isin(abnormalUsers))\n",
    "        ]['orders'],\n",
    "        pd.Series(\n",
    "            0,\n",
    "            index=np.arange(\n",
    "                data['visitorsPerDateA'].sum() - len(ordersByUsersA['orders'])\n",
    "            ),\n",
    "            name='orders',\n",
    "        ),\n",
    "    ],\n",
    "    axis=0,\n",
    ")\n",
    "\n",
    "sampleBFiltered = pd.concat(\n",
    "    [\n",
    "        ordersByUsersB[\n",
    "            np.logical_not(ordersByUsersB['userId'].isin(abnormalUsers))\n",
    "        ]['orders'],\n",
    "        pd.Series(\n",
    "            0,\n",
    "            index=np.arange(\n",
    "                data['visitorsPerDateB'].sum() - len(ordersByUsersB['orders'])\n",
    "            ),\n",
    "            name='orders',\n",
    "        ),\n",
    "    ],\n",
    "    axis=0,\n",
    ") \n"
   ]
  },
  {
   "cell_type": "markdown",
   "metadata": {},
   "source": [
    "<div class=\"alert alert-block alert-danger\">\n",
    "    \n",
    "**Комментарий от ревьюера**\n",
    "    \n",
    "Здесь и в следующем вопросе нужно заново сформулировать гипотезы, чтобы для каждого расчета было полное описание. Желательно также повторить значение alpha и метод проверки. \n",
    "    \n",
    "</div>"
   ]
  },
  {
   "cell_type": "markdown",
   "metadata": {},
   "source": [
    "<div class=\"alert alert-info\">\n",
    "    \n",
    "Тоже исправил.\n",
    "</div>"
   ]
  },
  {
   "cell_type": "markdown",
   "metadata": {},
   "source": [
    "<div class=\"alert alert-block alert-success\">\n",
    "    \n",
    "**Комментарий от ревьюера 2**\n",
    "\n",
    "Отлично, теперь для каждого расчета есть полное описание.\n",
    "</div>"
   ]
  },
  {
   "cell_type": "code",
   "execution_count": 38,
   "metadata": {},
   "outputs": [
    {
     "name": "stdout",
     "output_type": "stream",
     "text": [
      "p-value: 0.013\n",
      "различия: 0.173\n"
     ]
    }
   ],
   "source": [
    "# Считаем p-value и относительный прирост\n",
    "print('p-value: {0:.3f}'.format(stats.mannwhitneyu(sampleAFiltered, sampleBFiltered)[1]))\n",
    "print('различия: {0:.3f}'.format(sampleBFiltered.mean()/sampleAFiltered.mean()-1))"
   ]
  },
  {
   "cell_type": "markdown",
   "metadata": {},
   "source": [
    "**Вывод:**\n",
    "\n",
    "Хотя p-value снизился, результат при этом остается тем же. Нулевую гипотезу мы отвергаем. В среднем количестве заказов между группами есть статистически значимые отличия. Относительный прирост среднего группы В к группе А увеличился до 17,3%"
   ]
  },
  {
   "cell_type": "markdown",
   "metadata": {},
   "source": [
    "<div class=\"alert alert-block alert-success\">\n",
    "    \n",
    "**Комментарий от ревьюера**\n",
    "\n",
    "Верно, при анализе \"очищенных данных\" p-value стало еще меньше и все так же меньше 0.05, следовательно, между группами есть статистически значимые различия.\n",
    "</div>"
   ]
  },
  {
   "cell_type": "markdown",
   "metadata": {},
   "source": [
    "##### Шаг 3.13 Статистическая значимость различий в среднем чеке заказа между группами по «очищенным» данным."
   ]
  },
  {
   "cell_type": "markdown",
   "metadata": {},
   "source": [
    "Наши гипотезы:\n",
    "- Нулевая гипотеза: Статистически значимых различий в среднем чеке между группами нет.\n",
    "- Альтернативная гипотеза: Статистически значимые различия в среднем чеке между группами есть.\n",
    "\n",
    "Для проверки будем использовать непараметрический тест Уилкоксона-Манна-Уитни.\n",
    "\n",
    "alpha = 0,05"
   ]
  },
  {
   "cell_type": "code",
   "execution_count": 39,
   "metadata": {},
   "outputs": [
    {
     "name": "stdout",
     "output_type": "stream",
     "text": [
      "p-value: 0.738\n",
      "различия: -0.020\n"
     ]
    }
   ],
   "source": [
    "# Проверим различия в среднем чеке\n",
    "print('p-value: {0:.3f}'.format(\n",
    "        stats.mannwhitneyu(\n",
    "            orders[\n",
    "                np.logical_and(\n",
    "                    orders['group'] == 'A',\n",
    "                    np.logical_not(orders['visitorId'].isin(abnormalUsers)),\n",
    "                )\n",
    "            ]['revenue'],\n",
    "            orders[\n",
    "                np.logical_and(\n",
    "                    orders['group'] == 'B',\n",
    "                    np.logical_not(orders['visitorId'].isin(abnormalUsers)),\n",
    "                )\n",
    "            ]['revenue'],\n",
    "        )[1]\n",
    "    )\n",
    ")\n",
    "\n",
    "print('различия: {0:.3f}'.format(\n",
    "        orders[\n",
    "            np.logical_and(\n",
    "                orders['group'] == 'B',\n",
    "                np.logical_not(orders['visitorId'].isin(abnormalUsers)),\n",
    "            )\n",
    "        ]['revenue'].mean()\n",
    "        / orders[\n",
    "            np.logical_and(\n",
    "                orders['group'] == 'A',\n",
    "                np.logical_not(orders['visitorId'].isin(abnormalUsers)),\n",
    "            )\n",
    "        ]['revenue'].mean()\n",
    "        - 1\n",
    "    )\n",
    ") \n"
   ]
  },
  {
   "cell_type": "markdown",
   "metadata": {},
   "source": [
    "<div class=\"alert alert-block alert-danger\">\n",
    "    \n",
    "**Комментарий от ревьюера**\n",
    "\n",
    "Здесь оба числа подписаны как p-value, поправь это, пожалуйста.\n",
    "</div>"
   ]
  },
  {
   "cell_type": "markdown",
   "metadata": {},
   "source": [
    "<div class=\"alert alert-info\">\n",
    "    \n",
    "Исправил\n",
    "</div>"
   ]
  },
  {
   "cell_type": "markdown",
   "metadata": {},
   "source": [
    "**Вывод:**\n",
    "\n",
    "Видим, что статистически значимых отличий в среднем чеке все так же нет. Нулевую гипотезу мы не отвергаем. Относительное различие между сегментами снизилось до -2,0%"
   ]
  },
  {
   "cell_type": "markdown",
   "metadata": {},
   "source": [
    "<div class=\"alert alert-block alert-success\">\n",
    "    \n",
    "**Комментарий от ревьюера**\n",
    "\n",
    "Да, здесь видно, как на относительные различия повлияли выбросы.\n",
    "</div>"
   ]
  },
  {
   "cell_type": "markdown",
   "metadata": {},
   "source": [
    "#### Шаг 4. Выводы"
   ]
  },
  {
   "cell_type": "markdown",
   "metadata": {},
   "source": [
    "- В среднем количестве заказов между группами есть статистически значимые отличия как по \"сырым\" данным, так и после фильтрации аномалий.\n",
    "- Статистически значимых отличий в среднем чеке нет.\n",
    "- График различия средниго количества заказов на посетителя между группами сообщает, что результаты группы B лучше группы A. Прирост группы В закрепился в районе 15%.\n",
    "- График среднего чека показывает что результаты группы В лучше.\n",
    "- При этом каких-то явных аномалий влияющих на реузльтат мы не выявили."
   ]
  },
  {
   "cell_type": "code",
   "execution_count": 40,
   "metadata": {},
   "outputs": [
    {
     "data": {
      "image/png": "[encoded data removed]",
      "text/plain": [
       "<Figure size 864x504 with 1 Axes>"
      ]
     },
     "metadata": {
      "needs_background": "light"
     },
     "output_type": "display_data"
    }
   ],
   "source": [
    "# Зададим размер графика и подписи\n",
    "plt.figure(figsize=(12, 7))\n",
    "plt.xlabel(\"Дни\", size=12)\n",
    "plt.ylabel(\"Среднее количество заказов\", size=12)\n",
    "plt.title(\"График относительного изменения кумулятивного среднего количества заказов\")\n",
    "\n",
    "# Построим график\n",
    "plt.plot(mergedCumulativeConversions['date'], mergedCumulativeConversions['conversionB']\n",
    "         /mergedCumulativeConversions['conversionA']-1, \n",
    "         label=\"Относительный прирост среднего количества заказов группы B относительно группы A\")\n",
    "plt.legend()\n",
    "\n",
    "plt.axhline(y=0, color='black', linestyle='--')\n",
    "plt.axhline(y=0.15, color='grey', linestyle='--')\n",
    "plt.axis([dt.datetime(2019, 8, 1), dt.datetime(2019, 9, 1), -0.5, 0.5]);"
   ]
  },
  {
   "cell_type": "code",
   "execution_count": 41,
   "metadata": {},
   "outputs": [
    {
     "data": {
      "image/png": "[encoded data removed]",
      "text/plain": [
       "<Figure size 864x504 with 1 Axes>"
      ]
     },
     "metadata": {
      "needs_background": "light"
     },
     "output_type": "display_data"
    }
   ],
   "source": [
    "# Зададим размер графика и подписи\n",
    "plt.figure(figsize=(12, 7))\n",
    "plt.xlabel(\"Дни\", size=12)\n",
    "plt.ylabel(\"Изменение среднего чека\", size=12)\n",
    "plt.title(\"Относительного изменения кумулятивного среднего чека группы B к группе A\")\n",
    "\n",
    "# Строим отношение средних чеков\n",
    "plt.plot(mergedCumulativeRevenue['date'], \n",
    "         (mergedCumulativeRevenue['revenueB']/mergedCumulativeRevenue['ordersB'])\n",
    "         /(mergedCumulativeRevenue['revenueA']/mergedCumulativeRevenue['ordersA'])-1)\n",
    "\n",
    "# Добавляем ось X\n",
    "plt.axhline(y=0, color='black', linestyle='--');"
   ]
  },
  {
   "cell_type": "markdown",
   "metadata": {},
   "source": [
    "В результате проделанной работы приходим к выводу, что нужно остановить тест и зафиксировать победу группы В."
   ]
  },
  {
   "cell_type": "markdown",
   "metadata": {},
   "source": [
    "<div class=\"alert alert-block alert-success\">\n",
    "    \n",
    "**Комментарий от ревьюера**\n",
    "    \n",
    "Верно, данных для принятия решения у нас уже достаточно. \n",
    "</div>"
   ]
  },
  {
   "cell_type": "markdown",
   "metadata": {},
   "source": [
    "<div class=\"alert alert-block alert-info\">\n",
    "\n",
    "<b>Итоговый комментарий ревьюера:</b>\n",
    "\n",
    "Благодарю тебя за выполнение проекта. Вижу ты постарался, когда работал над ним. Однако, в проекте есть несколько замечаний, которые надо исправить:\n",
    "\n",
    "* добавить проверку на дубликаты;\n",
    "* дополнить оформление графиков;\n",
    "* разобраться со средним количеством заказов и конверсией;\n",
    "* дополнить описание статистических расчетов.\n",
    "       \n",
    "Жду проект после доработки. Уверена, ты справишься. 💪\n",
    "</div>"
   ]
  },
  {
   "cell_type": "markdown",
   "metadata": {},
   "source": [
    "<div class=\"alert alert-block alert-info\">\n",
    "\n",
    "<b>Итоговый комментарий ревьюера 2:</b>\n",
    "\n",
    "Замечания, которые осталось исправить:\n",
    "\n",
    "* добавить проверку на дубликаты в таблице с посетителями;\n",
    "* убрать ошибку кода.\n",
    "       \n",
    "</div>"
   ]
  },
  {
   "cell_type": "code",
   "execution_count": null,
   "metadata": {},
   "outputs": [],
   "source": []
  }
 ],
 "metadata": {
  "ExecuteTimeLog": [
   {
    "duration": 1275,
    "start_time": "2023-10-21T08:22:18.970Z"
   },
   {
    "duration": 3,
    "start_time": "2023-10-21T08:23:23.632Z"
   },
   {
    "duration": 2,
    "start_time": "2023-10-21T08:24:29.433Z"
   },
   {
    "duration": 2,
    "start_time": "2023-10-21T08:24:31.017Z"
   },
   {
    "duration": 3,
    "start_time": "2023-10-21T08:24:33.098Z"
   },
   {
    "duration": 49,
    "start_time": "2023-10-22T06:39:32.789Z"
   },
   {
    "duration": 388,
    "start_time": "2023-10-22T06:39:39.160Z"
   },
   {
    "duration": 194,
    "start_time": "2023-10-22T06:39:41.333Z"
   },
   {
    "duration": 13,
    "start_time": "2023-10-22T06:40:38.331Z"
   },
   {
    "duration": 8,
    "start_time": "2023-10-22T06:41:24.389Z"
   },
   {
    "duration": 7,
    "start_time": "2023-10-22T06:41:36.371Z"
   },
   {
    "duration": 11,
    "start_time": "2023-10-22T06:42:12.777Z"
   },
   {
    "duration": 10,
    "start_time": "2023-10-22T06:42:31.869Z"
   },
   {
    "duration": 10,
    "start_time": "2023-10-22T06:42:52.361Z"
   },
   {
    "duration": 10,
    "start_time": "2023-10-22T06:42:57.729Z"
   },
   {
    "duration": 1589,
    "start_time": "2023-10-22T06:57:17.109Z"
   },
   {
    "duration": 9,
    "start_time": "2023-10-22T06:57:52.233Z"
   },
   {
    "duration": 11,
    "start_time": "2023-10-22T06:58:03.919Z"
   },
   {
    "duration": 10,
    "start_time": "2023-10-22T06:58:18.855Z"
   },
   {
    "duration": 86,
    "start_time": "2023-10-22T06:59:05.060Z"
   },
   {
    "duration": 10,
    "start_time": "2023-10-22T06:59:16.837Z"
   },
   {
    "duration": 11,
    "start_time": "2023-10-22T07:01:36.378Z"
   },
   {
    "duration": 13,
    "start_time": "2023-10-22T07:02:00.357Z"
   },
   {
    "duration": 182,
    "start_time": "2023-10-22T07:03:30.912Z"
   },
   {
    "duration": 12,
    "start_time": "2023-10-22T07:04:09.041Z"
   },
   {
    "duration": 7,
    "start_time": "2023-10-22T07:04:45.277Z"
   },
   {
    "duration": 13,
    "start_time": "2023-10-22T07:04:54.354Z"
   },
   {
    "duration": 10,
    "start_time": "2023-10-22T07:05:35.682Z"
   },
   {
    "duration": 11,
    "start_time": "2023-10-22T07:06:14.495Z"
   },
   {
    "duration": 441,
    "start_time": "2023-10-22T07:23:19.495Z"
   },
   {
    "duration": 2,
    "start_time": "2023-10-22T07:23:40.759Z"
   },
   {
    "duration": 601,
    "start_time": "2023-10-22T07:24:09.328Z"
   },
   {
    "duration": 624,
    "start_time": "2023-10-22T07:24:28.754Z"
   },
   {
    "duration": 143,
    "start_time": "2023-10-22T07:25:32.363Z"
   },
   {
    "duration": 12,
    "start_time": "2023-10-22T07:25:35.401Z"
   },
   {
    "duration": 484,
    "start_time": "2023-10-22T07:25:44.157Z"
   },
   {
    "duration": 785,
    "start_time": "2023-10-22T07:25:52.591Z"
   },
   {
    "duration": 696,
    "start_time": "2023-10-22T07:26:03.496Z"
   },
   {
    "duration": 3,
    "start_time": "2023-10-22T07:26:18.247Z"
   },
   {
    "duration": 186,
    "start_time": "2023-10-22T07:26:18.251Z"
   },
   {
    "duration": 9,
    "start_time": "2023-10-22T07:26:18.439Z"
   },
   {
    "duration": 23,
    "start_time": "2023-10-22T07:26:18.449Z"
   },
   {
    "duration": 27,
    "start_time": "2023-10-22T07:26:18.474Z"
   },
   {
    "duration": 15,
    "start_time": "2023-10-22T07:26:18.503Z"
   },
   {
    "duration": 127,
    "start_time": "2023-10-22T07:26:18.519Z"
   },
   {
    "duration": 51,
    "start_time": "2023-10-22T07:26:18.648Z"
   },
   {
    "duration": 13,
    "start_time": "2023-10-22T07:26:18.701Z"
   },
   {
    "duration": 12,
    "start_time": "2023-10-22T07:26:18.715Z"
   },
   {
    "duration": 10,
    "start_time": "2023-10-22T07:26:18.729Z"
   },
   {
    "duration": 14,
    "start_time": "2023-10-22T07:26:18.740Z"
   },
   {
    "duration": 496,
    "start_time": "2023-10-22T07:27:04.620Z"
   },
   {
    "duration": 7,
    "start_time": "2023-10-22T07:28:56.571Z"
   },
   {
    "duration": 14,
    "start_time": "2023-10-22T07:29:04.457Z"
   },
   {
    "duration": 13,
    "start_time": "2023-10-22T07:29:10.746Z"
   },
   {
    "duration": 41,
    "start_time": "2023-10-22T07:29:17.193Z"
   },
   {
    "duration": 6,
    "start_time": "2023-10-22T07:29:52.513Z"
   },
   {
    "duration": 5,
    "start_time": "2023-10-22T07:29:57.355Z"
   },
   {
    "duration": 17,
    "start_time": "2023-10-22T07:31:55.947Z"
   },
   {
    "duration": 3,
    "start_time": "2023-10-22T07:32:22.535Z"
   },
   {
    "duration": 24,
    "start_time": "2023-10-22T07:32:26.926Z"
   },
   {
    "duration": 250,
    "start_time": "2023-10-22T07:33:17.970Z"
   },
   {
    "duration": 269,
    "start_time": "2023-10-22T07:33:32.234Z"
   },
   {
    "duration": 301,
    "start_time": "2023-10-22T07:33:52.235Z"
   },
   {
    "duration": 382,
    "start_time": "2023-10-22T07:34:13.202Z"
   },
   {
    "duration": 249,
    "start_time": "2023-10-22T07:34:29.049Z"
   },
   {
    "duration": 332,
    "start_time": "2023-10-22T07:37:09.538Z"
   },
   {
    "duration": 268,
    "start_time": "2023-10-22T07:37:27.055Z"
   },
   {
    "duration": 322,
    "start_time": "2023-10-22T07:37:46.725Z"
   },
   {
    "duration": 208,
    "start_time": "2023-10-22T07:38:02.884Z"
   },
   {
    "duration": 207,
    "start_time": "2023-10-22T07:38:31.084Z"
   },
   {
    "duration": 171,
    "start_time": "2023-10-22T07:38:43.427Z"
   },
   {
    "duration": 192,
    "start_time": "2023-10-22T07:38:46.894Z"
   },
   {
    "duration": 204,
    "start_time": "2023-10-22T07:39:40.953Z"
   },
   {
    "duration": 223,
    "start_time": "2023-10-22T07:40:22.028Z"
   },
   {
    "duration": 193,
    "start_time": "2023-10-22T07:41:20.653Z"
   },
   {
    "duration": 221,
    "start_time": "2023-10-22T07:41:46.184Z"
   },
   {
    "duration": 221,
    "start_time": "2023-10-22T07:46:46.027Z"
   },
   {
    "duration": 194,
    "start_time": "2023-10-22T07:47:56.786Z"
   },
   {
    "duration": 307,
    "start_time": "2023-10-22T08:00:39.962Z"
   },
   {
    "duration": 339,
    "start_time": "2023-10-22T08:02:06.341Z"
   },
   {
    "duration": 324,
    "start_time": "2023-10-22T08:02:26.255Z"
   },
   {
    "duration": 190,
    "start_time": "2023-10-22T08:08:25.403Z"
   },
   {
    "duration": 201,
    "start_time": "2023-10-22T08:10:29.679Z"
   },
   {
    "duration": 254,
    "start_time": "2023-10-22T08:10:39.544Z"
   },
   {
    "duration": 193,
    "start_time": "2023-10-22T08:11:06.275Z"
   },
   {
    "duration": 168,
    "start_time": "2023-10-22T08:12:30.595Z"
   },
   {
    "duration": 172,
    "start_time": "2023-10-22T08:12:41.331Z"
   },
   {
    "duration": 239,
    "start_time": "2023-10-22T08:12:46.627Z"
   },
   {
    "duration": 191,
    "start_time": "2023-10-22T08:14:07.689Z"
   },
   {
    "duration": 200,
    "start_time": "2023-10-22T08:15:52.414Z"
   },
   {
    "duration": 268,
    "start_time": "2023-10-22T08:20:10.897Z"
   },
   {
    "duration": 300,
    "start_time": "2023-10-22T08:20:36.321Z"
   },
   {
    "duration": 295,
    "start_time": "2023-10-22T08:21:12.497Z"
   },
   {
    "duration": 317,
    "start_time": "2023-10-22T08:22:30.443Z"
   },
   {
    "duration": 313,
    "start_time": "2023-10-22T08:24:26.785Z"
   },
   {
    "duration": 305,
    "start_time": "2023-10-22T08:24:34.566Z"
   },
   {
    "duration": 8,
    "start_time": "2023-10-22T08:33:46.148Z"
   },
   {
    "duration": 111,
    "start_time": "2023-10-22T08:34:39.003Z"
   },
   {
    "duration": 148,
    "start_time": "2023-10-22T08:35:02.485Z"
   },
   {
    "duration": 139,
    "start_time": "2023-10-22T08:36:06.810Z"
   },
   {
    "duration": 141,
    "start_time": "2023-10-22T08:36:12.657Z"
   },
   {
    "duration": 245,
    "start_time": "2023-10-22T09:06:57.770Z"
   },
   {
    "duration": 9,
    "start_time": "2023-10-22T09:07:40.502Z"
   },
   {
    "duration": 139,
    "start_time": "2023-10-22T09:08:00.520Z"
   },
   {
    "duration": 10,
    "start_time": "2023-10-22T09:08:13.514Z"
   },
   {
    "duration": 5,
    "start_time": "2023-10-22T09:21:31.734Z"
   },
   {
    "duration": 4,
    "start_time": "2023-10-22T09:29:58.348Z"
   },
   {
    "duration": 134,
    "start_time": "2023-10-22T09:32:02.110Z"
   },
   {
    "duration": 157,
    "start_time": "2023-10-22T09:32:06.081Z"
   },
   {
    "duration": 175,
    "start_time": "2023-10-22T09:32:44.350Z"
   },
   {
    "duration": 8,
    "start_time": "2023-10-22T09:36:45.506Z"
   },
   {
    "duration": 4,
    "start_time": "2023-10-22T09:36:51.979Z"
   },
   {
    "duration": 3,
    "start_time": "2023-10-22T09:39:57.215Z"
   },
   {
    "duration": 102,
    "start_time": "2023-10-22T09:50:09.661Z"
   },
   {
    "duration": 112,
    "start_time": "2023-10-22T09:50:54.696Z"
   },
   {
    "duration": 157,
    "start_time": "2023-10-22T09:51:14.677Z"
   },
   {
    "duration": 215,
    "start_time": "2023-10-22T09:51:41.361Z"
   },
   {
    "duration": 275,
    "start_time": "2023-10-22T09:51:59.923Z"
   },
   {
    "duration": 15,
    "start_time": "2023-10-22T09:54:33.305Z"
   },
   {
    "duration": 167,
    "start_time": "2023-10-22T09:54:53.810Z"
   },
   {
    "duration": 7,
    "start_time": "2023-10-22T09:56:50.294Z"
   },
   {
    "duration": 7,
    "start_time": "2023-10-22T09:58:40.619Z"
   },
   {
    "duration": 433,
    "start_time": "2023-10-22T09:59:08.652Z"
   },
   {
    "duration": 26,
    "start_time": "2023-10-22T09:59:13.537Z"
   },
   {
    "duration": 27,
    "start_time": "2023-10-22T10:02:33.010Z"
   },
   {
    "duration": 284,
    "start_time": "2023-10-22T10:02:58.186Z"
   },
   {
    "duration": 26,
    "start_time": "2023-10-22T10:03:23.714Z"
   },
   {
    "duration": 15,
    "start_time": "2023-10-22T10:17:25.064Z"
   },
   {
    "duration": 67,
    "start_time": "2023-10-23T04:41:36.982Z"
   },
   {
    "duration": 1638,
    "start_time": "2023-10-23T04:41:41.023Z"
   },
   {
    "duration": 262,
    "start_time": "2023-10-23T04:41:42.673Z"
   },
   {
    "duration": 13,
    "start_time": "2023-10-23T04:41:42.940Z"
   },
   {
    "duration": 15,
    "start_time": "2023-10-23T04:41:42.955Z"
   },
   {
    "duration": 44,
    "start_time": "2023-10-23T04:41:42.973Z"
   },
   {
    "duration": 14,
    "start_time": "2023-10-23T04:41:43.041Z"
   },
   {
    "duration": 21,
    "start_time": "2023-10-23T04:41:43.057Z"
   },
   {
    "duration": 24,
    "start_time": "2023-10-23T04:41:43.081Z"
   },
   {
    "duration": 38,
    "start_time": "2023-10-23T04:41:43.108Z"
   },
   {
    "duration": 14,
    "start_time": "2023-10-23T04:41:43.149Z"
   },
   {
    "duration": 24,
    "start_time": "2023-10-23T04:41:43.165Z"
   },
   {
    "duration": 29,
    "start_time": "2023-10-23T04:41:43.192Z"
   },
   {
    "duration": 20,
    "start_time": "2023-10-23T04:41:43.223Z"
   },
   {
    "duration": 494,
    "start_time": "2023-10-23T04:41:43.247Z"
   },
   {
    "duration": 389,
    "start_time": "2023-10-23T04:41:43.742Z"
   },
   {
    "duration": 359,
    "start_time": "2023-10-23T04:41:44.132Z"
   },
   {
    "duration": 536,
    "start_time": "2023-10-23T04:41:44.495Z"
   },
   {
    "duration": 363,
    "start_time": "2023-10-23T04:41:45.038Z"
   },
   {
    "duration": 411,
    "start_time": "2023-10-23T04:41:45.404Z"
   },
   {
    "duration": 30,
    "start_time": "2023-10-23T04:41:45.818Z"
   },
   {
    "duration": 286,
    "start_time": "2023-10-23T04:41:45.851Z"
   },
   {
    "duration": 9,
    "start_time": "2023-10-23T04:41:46.142Z"
   },
   {
    "duration": 226,
    "start_time": "2023-10-23T04:41:46.154Z"
   },
   {
    "duration": 5,
    "start_time": "2023-10-23T04:41:46.382Z"
   },
   {
    "duration": 377,
    "start_time": "2023-10-23T04:41:46.389Z"
   },
   {
    "duration": 260,
    "start_time": "2023-10-23T04:41:46.769Z"
   },
   {
    "duration": 9,
    "start_time": "2023-10-23T04:41:47.037Z"
   },
   {
    "duration": 50,
    "start_time": "2023-10-23T04:41:47.049Z"
   },
   {
    "duration": 20,
    "start_time": "2023-10-23T04:41:47.104Z"
   },
   {
    "duration": 2117,
    "start_time": "2023-10-23T04:41:47.127Z"
   },
   {
    "duration": 1598,
    "start_time": "2023-10-23T04:43:20.047Z"
   },
   {
    "duration": 1521,
    "start_time": "2023-10-23T04:44:07.130Z"
   },
   {
    "duration": 9,
    "start_time": "2023-10-23T04:44:20.232Z"
   },
   {
    "duration": 14,
    "start_time": "2023-10-23T04:44:28.620Z"
   },
   {
    "duration": 1539,
    "start_time": "2023-10-23T04:44:38.331Z"
   },
   {
    "duration": 8,
    "start_time": "2023-10-23T04:45:40.061Z"
   },
   {
    "duration": 8,
    "start_time": "2023-10-23T04:45:51.544Z"
   },
   {
    "duration": 12,
    "start_time": "2023-10-23T04:46:00.127Z"
   },
   {
    "duration": 10,
    "start_time": "2023-10-23T04:46:17.555Z"
   },
   {
    "duration": 11,
    "start_time": "2023-10-23T04:46:32.531Z"
   },
   {
    "duration": 12,
    "start_time": "2023-10-23T04:46:37.028Z"
   },
   {
    "duration": 10,
    "start_time": "2023-10-23T04:47:26.826Z"
   },
   {
    "duration": 13,
    "start_time": "2023-10-23T04:47:57.865Z"
   },
   {
    "duration": 9,
    "start_time": "2023-10-23T04:51:22.562Z"
   },
   {
    "duration": 28,
    "start_time": "2023-10-23T04:53:01.069Z"
   },
   {
    "duration": 25,
    "start_time": "2023-10-23T04:57:20.137Z"
   },
   {
    "duration": 1474,
    "start_time": "2023-10-23T04:57:37.353Z"
   },
   {
    "duration": 15,
    "start_time": "2023-10-23T04:57:55.027Z"
   },
   {
    "duration": 440,
    "start_time": "2023-10-23T05:17:37.076Z"
   },
   {
    "duration": 95,
    "start_time": "2023-10-23T05:22:18.271Z"
   },
   {
    "duration": 342,
    "start_time": "2023-10-23T05:24:36.798Z"
   },
   {
    "duration": 1426,
    "start_time": "2023-10-23T05:51:40.870Z"
   },
   {
    "duration": 211,
    "start_time": "2023-10-23T05:51:42.298Z"
   },
   {
    "duration": 16,
    "start_time": "2023-10-23T05:51:42.514Z"
   },
   {
    "duration": 33,
    "start_time": "2023-10-23T05:51:42.532Z"
   },
   {
    "duration": 44,
    "start_time": "2023-10-23T05:51:42.568Z"
   },
   {
    "duration": 32,
    "start_time": "2023-10-23T05:51:42.614Z"
   },
   {
    "duration": 32,
    "start_time": "2023-10-23T05:51:42.648Z"
   },
   {
    "duration": 41,
    "start_time": "2023-10-23T05:51:42.682Z"
   },
   {
    "duration": 37,
    "start_time": "2023-10-23T05:51:42.725Z"
   },
   {
    "duration": 23,
    "start_time": "2023-10-23T05:51:42.764Z"
   },
   {
    "duration": 56,
    "start_time": "2023-10-23T05:51:42.789Z"
   },
   {
    "duration": 27,
    "start_time": "2023-10-23T05:51:42.847Z"
   },
   {
    "duration": 32,
    "start_time": "2023-10-23T05:51:42.876Z"
   },
   {
    "duration": 331,
    "start_time": "2023-10-23T05:51:42.912Z"
   },
   {
    "duration": 333,
    "start_time": "2023-10-23T05:51:43.245Z"
   },
   {
    "duration": 250,
    "start_time": "2023-10-23T05:51:43.580Z"
   },
   {
    "duration": 354,
    "start_time": "2023-10-23T05:51:43.831Z"
   },
   {
    "duration": 254,
    "start_time": "2023-10-23T05:51:44.187Z"
   },
   {
    "duration": 348,
    "start_time": "2023-10-23T05:51:44.443Z"
   },
   {
    "duration": 16,
    "start_time": "2023-10-23T05:51:44.803Z"
   },
   {
    "duration": 197,
    "start_time": "2023-10-23T05:51:44.821Z"
   },
   {
    "duration": 5,
    "start_time": "2023-10-23T05:51:45.020Z"
   },
   {
    "duration": 233,
    "start_time": "2023-10-23T05:51:45.026Z"
   },
   {
    "duration": 5,
    "start_time": "2023-10-23T05:51:45.261Z"
   },
   {
    "duration": 251,
    "start_time": "2023-10-23T05:51:45.268Z"
   },
   {
    "duration": 130,
    "start_time": "2023-10-23T05:51:45.521Z"
   },
   {
    "duration": 6,
    "start_time": "2023-10-23T05:51:45.653Z"
   },
   {
    "duration": 59,
    "start_time": "2023-10-23T05:51:45.661Z"
   },
   {
    "duration": 14,
    "start_time": "2023-10-23T05:51:45.722Z"
   },
   {
    "duration": 17,
    "start_time": "2023-10-23T05:51:45.738Z"
   },
   {
    "duration": 16,
    "start_time": "2023-10-23T05:51:45.757Z"
   },
   {
    "duration": 50,
    "start_time": "2023-10-23T05:51:45.775Z"
   },
   {
    "duration": 16,
    "start_time": "2023-10-23T05:51:45.827Z"
   },
   {
    "duration": 438,
    "start_time": "2023-10-23T05:51:45.844Z"
   },
   {
    "duration": 377,
    "start_time": "2023-10-23T05:51:46.284Z"
   },
   {
    "duration": 26,
    "start_time": "2023-10-23T06:07:47.638Z"
   },
   {
    "duration": 26,
    "start_time": "2023-10-23T06:07:50.636Z"
   },
   {
    "duration": 108,
    "start_time": "2023-10-23T06:08:25.558Z"
   },
   {
    "duration": 3,
    "start_time": "2023-10-23T06:20:27.489Z"
   },
   {
    "duration": 14,
    "start_time": "2023-10-23T06:20:35.229Z"
   },
   {
    "duration": 14,
    "start_time": "2023-10-23T06:20:39.437Z"
   },
   {
    "duration": 75,
    "start_time": "2023-10-23T06:21:29.325Z"
   },
   {
    "duration": 67,
    "start_time": "2023-10-23T06:25:27.109Z"
   },
   {
    "duration": 7,
    "start_time": "2023-10-23T06:26:16.596Z"
   },
   {
    "duration": 73,
    "start_time": "2023-10-23T06:27:08.869Z"
   },
   {
    "duration": 6,
    "start_time": "2023-10-23T06:28:08.859Z"
   },
   {
    "duration": 30,
    "start_time": "2023-10-23T06:44:52.357Z"
   },
   {
    "duration": 8,
    "start_time": "2023-10-23T06:58:56.916Z"
   },
   {
    "duration": 8,
    "start_time": "2023-10-23T06:59:56.470Z"
   },
   {
    "duration": 8,
    "start_time": "2023-10-23T07:00:26.444Z"
   },
   {
    "duration": 9,
    "start_time": "2023-10-23T07:00:31.788Z"
   },
   {
    "duration": 100,
    "start_time": "2023-10-23T07:07:09.273Z"
   },
   {
    "duration": 239,
    "start_time": "2023-10-23T07:08:31.917Z"
   },
   {
    "duration": 225,
    "start_time": "2023-10-23T07:08:40.261Z"
   },
   {
    "duration": 72,
    "start_time": "2023-10-23T07:09:11.872Z"
   },
   {
    "duration": 349,
    "start_time": "2023-10-23T07:11:47.415Z"
   },
   {
    "duration": 350,
    "start_time": "2023-10-23T07:14:06.915Z"
   },
   {
    "duration": 356,
    "start_time": "2023-10-23T07:14:19.595Z"
   },
   {
    "duration": 165,
    "start_time": "2023-10-23T07:24:20.619Z"
   },
   {
    "duration": 190,
    "start_time": "2023-10-23T07:24:35.424Z"
   },
   {
    "duration": 196,
    "start_time": "2023-10-23T07:24:47.458Z"
   },
   {
    "duration": 189,
    "start_time": "2023-10-23T07:24:55.295Z"
   },
   {
    "duration": 346,
    "start_time": "2023-10-23T07:25:04.718Z"
   },
   {
    "duration": 179,
    "start_time": "2023-10-23T07:25:11.610Z"
   },
   {
    "duration": 169,
    "start_time": "2023-10-23T07:26:08.315Z"
   },
   {
    "duration": 177,
    "start_time": "2023-10-23T07:26:14.279Z"
   },
   {
    "duration": 185,
    "start_time": "2023-10-23T07:26:19.968Z"
   },
   {
    "duration": 365,
    "start_time": "2023-10-23T07:26:40.590Z"
   },
   {
    "duration": 165,
    "start_time": "2023-10-23T07:26:46.082Z"
   },
   {
    "duration": 210,
    "start_time": "2023-10-23T07:27:00.869Z"
   },
   {
    "duration": 143,
    "start_time": "2023-10-23T10:22:39.538Z"
   },
   {
    "duration": 150,
    "start_time": "2023-10-23T10:22:45.045Z"
   },
   {
    "duration": 250,
    "start_time": "2023-10-23T10:22:51.081Z"
   },
   {
    "duration": 56,
    "start_time": "2023-10-24T05:34:10.384Z"
   },
   {
    "duration": 1394,
    "start_time": "2023-10-24T05:34:13.939Z"
   },
   {
    "duration": 194,
    "start_time": "2023-10-24T05:34:15.336Z"
   },
   {
    "duration": 13,
    "start_time": "2023-10-24T05:34:15.532Z"
   },
   {
    "duration": 12,
    "start_time": "2023-10-24T05:34:15.547Z"
   },
   {
    "duration": 21,
    "start_time": "2023-10-24T05:34:15.561Z"
   },
   {
    "duration": 22,
    "start_time": "2023-10-24T05:34:15.584Z"
   },
   {
    "duration": 6,
    "start_time": "2023-10-24T05:34:15.608Z"
   },
   {
    "duration": 9,
    "start_time": "2023-10-24T05:34:15.615Z"
   },
   {
    "duration": 22,
    "start_time": "2023-10-24T05:34:15.626Z"
   },
   {
    "duration": 37,
    "start_time": "2023-10-24T05:34:15.650Z"
   },
   {
    "duration": 9,
    "start_time": "2023-10-24T05:34:15.689Z"
   },
   {
    "duration": 15,
    "start_time": "2023-10-24T05:34:15.699Z"
   },
   {
    "duration": 18,
    "start_time": "2023-10-24T05:34:15.715Z"
   },
   {
    "duration": 23,
    "start_time": "2023-10-24T05:34:15.735Z"
   },
   {
    "duration": 26,
    "start_time": "2023-10-24T05:34:15.760Z"
   },
   {
    "duration": 9,
    "start_time": "2023-10-24T05:34:15.788Z"
   },
   {
    "duration": 14,
    "start_time": "2023-10-24T05:34:15.799Z"
   },
   {
    "duration": 314,
    "start_time": "2023-10-24T05:34:15.815Z"
   },
   {
    "duration": 331,
    "start_time": "2023-10-24T05:34:16.130Z"
   },
   {
    "duration": 243,
    "start_time": "2023-10-24T05:34:16.463Z"
   },
   {
    "duration": 419,
    "start_time": "2023-10-24T05:34:16.708Z"
   },
   {
    "duration": 248,
    "start_time": "2023-10-24T05:34:17.129Z"
   },
   {
    "duration": 331,
    "start_time": "2023-10-24T05:34:17.379Z"
   },
   {
    "duration": 12,
    "start_time": "2023-10-24T05:34:17.712Z"
   },
   {
    "duration": 172,
    "start_time": "2023-10-24T05:34:17.725Z"
   },
   {
    "duration": 5,
    "start_time": "2023-10-24T05:34:17.898Z"
   },
   {
    "duration": 193,
    "start_time": "2023-10-24T05:34:17.905Z"
   },
   {
    "duration": 183,
    "start_time": "2023-10-24T05:34:18.102Z"
   },
   {
    "duration": 5,
    "start_time": "2023-10-24T05:34:18.287Z"
   },
   {
    "duration": 333,
    "start_time": "2023-10-24T05:34:18.294Z"
   },
   {
    "duration": 151,
    "start_time": "2023-10-24T05:34:18.629Z"
   },
   {
    "duration": 6,
    "start_time": "2023-10-24T05:34:18.782Z"
   },
   {
    "duration": 51,
    "start_time": "2023-10-24T05:34:18.789Z"
   },
   {
    "duration": 11,
    "start_time": "2023-10-24T05:34:18.842Z"
   },
   {
    "duration": 10,
    "start_time": "2023-10-24T05:34:18.855Z"
   },
   {
    "duration": 23,
    "start_time": "2023-10-24T05:34:18.867Z"
   },
   {
    "duration": 31,
    "start_time": "2023-10-24T05:34:18.892Z"
   },
   {
    "duration": 23,
    "start_time": "2023-10-24T05:34:18.925Z"
   },
   {
    "duration": 365,
    "start_time": "2023-10-24T05:34:18.950Z"
   },
   {
    "duration": 362,
    "start_time": "2023-10-24T05:34:19.317Z"
   },
   {
    "duration": 227,
    "start_time": "2023-10-24T05:34:37.554Z"
   },
   {
    "duration": 87,
    "start_time": "2023-10-24T05:44:01.219Z"
   },
   {
    "duration": 90,
    "start_time": "2023-10-24T05:44:22.694Z"
   },
   {
    "duration": 80,
    "start_time": "2023-10-24T05:44:45.463Z"
   },
   {
    "duration": 28,
    "start_time": "2023-10-24T05:45:31.400Z"
   },
   {
    "duration": 74,
    "start_time": "2023-10-24T05:46:05.836Z"
   },
   {
    "duration": 16,
    "start_time": "2023-10-24T05:46:35.872Z"
   },
   {
    "duration": 16,
    "start_time": "2023-10-24T05:49:38.817Z"
   },
   {
    "duration": 16,
    "start_time": "2023-10-24T05:49:53.709Z"
   },
   {
    "duration": 101,
    "start_time": "2023-10-24T05:50:56.670Z"
   },
   {
    "duration": 5,
    "start_time": "2023-10-24T05:51:58.886Z"
   },
   {
    "duration": 10,
    "start_time": "2023-10-24T05:52:22.522Z"
   },
   {
    "duration": 121,
    "start_time": "2023-10-24T05:52:58.178Z"
   },
   {
    "duration": 6,
    "start_time": "2023-10-24T05:53:11.063Z"
   },
   {
    "duration": 3,
    "start_time": "2023-10-24T05:53:14.028Z"
   },
   {
    "duration": 121,
    "start_time": "2023-10-24T05:53:14.033Z"
   },
   {
    "duration": 10,
    "start_time": "2023-10-24T05:53:14.156Z"
   },
   {
    "duration": 21,
    "start_time": "2023-10-24T05:53:14.167Z"
   },
   {
    "duration": 38,
    "start_time": "2023-10-24T05:53:14.190Z"
   },
   {
    "duration": 51,
    "start_time": "2023-10-24T05:53:14.230Z"
   },
   {
    "duration": 10,
    "start_time": "2023-10-24T05:53:14.283Z"
   },
   {
    "duration": 56,
    "start_time": "2023-10-24T05:53:14.295Z"
   },
   {
    "duration": 29,
    "start_time": "2023-10-24T05:53:14.353Z"
   },
   {
    "duration": 49,
    "start_time": "2023-10-24T05:53:14.384Z"
   },
   {
    "duration": 8,
    "start_time": "2023-10-24T05:53:14.436Z"
   },
   {
    "duration": 15,
    "start_time": "2023-10-24T05:53:14.446Z"
   },
   {
    "duration": 28,
    "start_time": "2023-10-24T05:53:14.463Z"
   },
   {
    "duration": 13,
    "start_time": "2023-10-24T05:53:14.493Z"
   },
   {
    "duration": 20,
    "start_time": "2023-10-24T05:53:14.508Z"
   },
   {
    "duration": 25,
    "start_time": "2023-10-24T05:53:14.530Z"
   },
   {
    "duration": 21,
    "start_time": "2023-10-24T05:53:14.557Z"
   },
   {
    "duration": 318,
    "start_time": "2023-10-24T05:53:14.579Z"
   },
   {
    "duration": 237,
    "start_time": "2023-10-24T05:53:14.899Z"
   },
   {
    "duration": 254,
    "start_time": "2023-10-24T05:53:15.137Z"
   },
   {
    "duration": 345,
    "start_time": "2023-10-24T05:53:15.393Z"
   },
   {
    "duration": 245,
    "start_time": "2023-10-24T05:53:15.740Z"
   },
   {
    "duration": 328,
    "start_time": "2023-10-24T05:53:15.986Z"
   },
   {
    "duration": 12,
    "start_time": "2023-10-24T05:53:16.316Z"
   },
   {
    "duration": 167,
    "start_time": "2023-10-24T05:53:16.329Z"
   },
   {
    "duration": 6,
    "start_time": "2023-10-24T05:53:16.498Z"
   },
   {
    "duration": 189,
    "start_time": "2023-10-24T05:53:16.506Z"
   },
   {
    "duration": 258,
    "start_time": "2023-10-24T05:53:16.698Z"
   },
   {
    "duration": 5,
    "start_time": "2023-10-24T05:53:16.960Z"
   },
   {
    "duration": 110,
    "start_time": "2023-10-24T05:53:16.966Z"
   },
   {
    "duration": 151,
    "start_time": "2023-10-24T05:53:17.077Z"
   },
   {
    "duration": 7,
    "start_time": "2023-10-24T05:53:17.229Z"
   },
   {
    "duration": 52,
    "start_time": "2023-10-24T05:53:17.247Z"
   },
   {
    "duration": 21,
    "start_time": "2023-10-24T05:53:17.301Z"
   },
   {
    "duration": 30,
    "start_time": "2023-10-24T05:53:17.324Z"
   },
   {
    "duration": 40,
    "start_time": "2023-10-24T05:53:17.356Z"
   },
   {
    "duration": 40,
    "start_time": "2023-10-24T05:53:17.397Z"
   },
   {
    "duration": 31,
    "start_time": "2023-10-24T05:53:17.439Z"
   },
   {
    "duration": 395,
    "start_time": "2023-10-24T05:53:17.472Z"
   },
   {
    "duration": 333,
    "start_time": "2023-10-24T05:53:17.869Z"
   },
   {
    "duration": 7,
    "start_time": "2023-10-24T05:53:54.091Z"
   },
   {
    "duration": 11,
    "start_time": "2023-10-24T05:54:02.695Z"
   },
   {
    "duration": 29,
    "start_time": "2023-10-24T05:54:31.728Z"
   },
   {
    "duration": 16,
    "start_time": "2023-10-24T05:54:36.624Z"
   },
   {
    "duration": 139,
    "start_time": "2023-10-24T05:55:02.739Z"
   },
   {
    "duration": 44,
    "start_time": "2023-10-24T06:02:44.720Z"
   },
   {
    "duration": 114,
    "start_time": "2023-10-24T06:07:17.916Z"
   },
   {
    "duration": 118,
    "start_time": "2023-10-24T06:07:31.743Z"
   },
   {
    "duration": 1372,
    "start_time": "2023-10-24T06:48:25.639Z"
   },
   {
    "duration": 192,
    "start_time": "2023-10-24T06:48:27.013Z"
   },
   {
    "duration": 15,
    "start_time": "2023-10-24T06:48:27.207Z"
   },
   {
    "duration": 27,
    "start_time": "2023-10-24T06:48:27.225Z"
   },
   {
    "duration": 37,
    "start_time": "2023-10-24T06:48:27.254Z"
   },
   {
    "duration": 36,
    "start_time": "2023-10-24T06:48:27.293Z"
   },
   {
    "duration": 37,
    "start_time": "2023-10-24T06:48:27.332Z"
   },
   {
    "duration": 16,
    "start_time": "2023-10-24T06:48:27.370Z"
   },
   {
    "duration": 46,
    "start_time": "2023-10-24T06:48:27.389Z"
   },
   {
    "duration": 50,
    "start_time": "2023-10-24T06:48:27.440Z"
   },
   {
    "duration": 19,
    "start_time": "2023-10-24T06:48:27.491Z"
   },
   {
    "duration": 22,
    "start_time": "2023-10-24T06:48:27.513Z"
   },
   {
    "duration": 37,
    "start_time": "2023-10-24T06:48:27.537Z"
   },
   {
    "duration": 45,
    "start_time": "2023-10-24T06:48:27.576Z"
   },
   {
    "duration": 28,
    "start_time": "2023-10-24T06:48:27.623Z"
   },
   {
    "duration": 9,
    "start_time": "2023-10-24T06:48:27.653Z"
   },
   {
    "duration": 18,
    "start_time": "2023-10-24T06:48:27.664Z"
   },
   {
    "duration": 302,
    "start_time": "2023-10-24T06:48:27.684Z"
   },
   {
    "duration": 305,
    "start_time": "2023-10-24T06:48:27.987Z"
   },
   {
    "duration": 216,
    "start_time": "2023-10-24T06:48:28.293Z"
   },
   {
    "duration": 354,
    "start_time": "2023-10-24T06:48:28.511Z"
   },
   {
    "duration": 220,
    "start_time": "2023-10-24T06:48:28.867Z"
   },
   {
    "duration": 369,
    "start_time": "2023-10-24T06:48:29.089Z"
   },
   {
    "duration": 13,
    "start_time": "2023-10-24T06:48:29.460Z"
   },
   {
    "duration": 167,
    "start_time": "2023-10-24T06:48:29.475Z"
   },
   {
    "duration": 6,
    "start_time": "2023-10-24T06:48:29.644Z"
   },
   {
    "duration": 237,
    "start_time": "2023-10-24T06:48:29.651Z"
   },
   {
    "duration": 174,
    "start_time": "2023-10-24T06:48:29.892Z"
   },
   {
    "duration": 5,
    "start_time": "2023-10-24T06:48:30.067Z"
   },
   {
    "duration": 252,
    "start_time": "2023-10-24T06:48:30.074Z"
   },
   {
    "duration": 0,
    "start_time": "2023-10-24T06:48:30.328Z"
   },
   {
    "duration": 0,
    "start_time": "2023-10-24T06:48:30.329Z"
   },
   {
    "duration": 0,
    "start_time": "2023-10-24T06:48:30.331Z"
   },
   {
    "duration": 0,
    "start_time": "2023-10-24T06:48:30.332Z"
   },
   {
    "duration": 0,
    "start_time": "2023-10-24T06:48:30.333Z"
   },
   {
    "duration": 0,
    "start_time": "2023-10-24T06:48:30.335Z"
   },
   {
    "duration": 0,
    "start_time": "2023-10-24T06:48:30.336Z"
   },
   {
    "duration": 0,
    "start_time": "2023-10-24T06:48:30.339Z"
   },
   {
    "duration": 0,
    "start_time": "2023-10-24T06:48:30.341Z"
   },
   {
    "duration": 0,
    "start_time": "2023-10-24T06:48:30.342Z"
   },
   {
    "duration": 6,
    "start_time": "2023-10-24T15:20:36.486Z"
   },
   {
    "duration": 4,
    "start_time": "2023-10-24T15:20:52.256Z"
   },
   {
    "duration": 80,
    "start_time": "2023-10-24T15:21:13.371Z"
   },
   {
    "duration": 3,
    "start_time": "2023-10-24T15:22:27.926Z"
   },
   {
    "duration": 104,
    "start_time": "2023-10-24T15:22:27.933Z"
   },
   {
    "duration": 9,
    "start_time": "2023-10-24T15:22:28.039Z"
   },
   {
    "duration": 35,
    "start_time": "2023-10-24T15:22:28.049Z"
   },
   {
    "duration": 21,
    "start_time": "2023-10-24T15:22:28.086Z"
   },
   {
    "duration": 25,
    "start_time": "2023-10-24T15:22:28.109Z"
   },
   {
    "duration": 47,
    "start_time": "2023-10-24T15:22:28.136Z"
   },
   {
    "duration": 28,
    "start_time": "2023-10-24T15:22:28.185Z"
   },
   {
    "duration": 20,
    "start_time": "2023-10-24T15:22:28.214Z"
   },
   {
    "duration": 11,
    "start_time": "2023-10-24T15:22:28.236Z"
   },
   {
    "duration": 35,
    "start_time": "2023-10-24T15:22:28.250Z"
   },
   {
    "duration": 8,
    "start_time": "2023-10-24T15:22:28.287Z"
   },
   {
    "duration": 10,
    "start_time": "2023-10-24T15:22:28.296Z"
   },
   {
    "duration": 11,
    "start_time": "2023-10-24T15:22:28.308Z"
   },
   {
    "duration": 35,
    "start_time": "2023-10-24T15:22:28.321Z"
   },
   {
    "duration": 13,
    "start_time": "2023-10-24T15:22:28.358Z"
   },
   {
    "duration": 17,
    "start_time": "2023-10-24T15:22:28.373Z"
   },
   {
    "duration": 8,
    "start_time": "2023-10-24T15:22:28.392Z"
   },
   {
    "duration": 320,
    "start_time": "2023-10-24T15:22:28.401Z"
   },
   {
    "duration": 239,
    "start_time": "2023-10-24T15:22:28.723Z"
   },
   {
    "duration": 243,
    "start_time": "2023-10-24T15:22:28.964Z"
   },
   {
    "duration": 332,
    "start_time": "2023-10-24T15:22:29.209Z"
   },
   {
    "duration": 248,
    "start_time": "2023-10-24T15:22:29.543Z"
   },
   {
    "duration": 356,
    "start_time": "2023-10-24T15:22:29.794Z"
   },
   {
    "duration": 13,
    "start_time": "2023-10-24T15:22:30.151Z"
   },
   {
    "duration": 236,
    "start_time": "2023-10-24T15:22:30.166Z"
   },
   {
    "duration": 6,
    "start_time": "2023-10-24T15:22:30.403Z"
   },
   {
    "duration": 203,
    "start_time": "2023-10-24T15:22:30.410Z"
   },
   {
    "duration": 272,
    "start_time": "2023-10-24T15:22:30.615Z"
   },
   {
    "duration": 5,
    "start_time": "2023-10-24T15:22:30.889Z"
   },
   {
    "duration": 128,
    "start_time": "2023-10-24T15:22:30.896Z"
   },
   {
    "duration": 159,
    "start_time": "2023-10-24T15:22:31.025Z"
   },
   {
    "duration": 78,
    "start_time": "2023-10-24T15:22:31.185Z"
   },
   {
    "duration": 312,
    "start_time": "2023-10-24T15:22:31.264Z"
   },
   {
    "duration": 24,
    "start_time": "2023-10-24T15:22:31.577Z"
   },
   {
    "duration": 36,
    "start_time": "2023-10-24T15:22:31.602Z"
   },
   {
    "duration": 47,
    "start_time": "2023-10-24T15:22:31.640Z"
   },
   {
    "duration": 51,
    "start_time": "2023-10-24T15:22:31.688Z"
   },
   {
    "duration": 22,
    "start_time": "2023-10-24T15:22:31.741Z"
   },
   {
    "duration": 345,
    "start_time": "2023-10-24T15:22:31.765Z"
   },
   {
    "duration": 356,
    "start_time": "2023-10-24T15:22:32.113Z"
   },
   {
    "duration": 91,
    "start_time": "2023-10-24T15:23:10.236Z"
   },
   {
    "duration": 153,
    "start_time": "2023-10-24T15:25:27.200Z"
   },
   {
    "duration": 41,
    "start_time": "2023-10-24T15:37:41.511Z"
   },
   {
    "duration": 154,
    "start_time": "2023-10-24T15:37:45.147Z"
   },
   {
    "duration": 8,
    "start_time": "2023-10-24T15:37:47.288Z"
   },
   {
    "duration": 26,
    "start_time": "2023-10-24T15:37:49.519Z"
   },
   {
    "duration": 44,
    "start_time": "2023-10-24T15:38:34.485Z"
   },
   {
    "duration": 337,
    "start_time": "2023-10-24T15:42:55.747Z"
   },
   {
    "duration": 308,
    "start_time": "2023-10-24T15:43:00.984Z"
   },
   {
    "duration": 3,
    "start_time": "2023-10-24T15:44:33.905Z"
   },
   {
    "duration": 81,
    "start_time": "2023-10-24T15:44:33.909Z"
   },
   {
    "duration": 8,
    "start_time": "2023-10-24T15:44:33.992Z"
   },
   {
    "duration": 27,
    "start_time": "2023-10-24T15:44:34.001Z"
   },
   {
    "duration": 26,
    "start_time": "2023-10-24T15:44:34.030Z"
   },
   {
    "duration": 14,
    "start_time": "2023-10-24T15:44:34.058Z"
   },
   {
    "duration": 18,
    "start_time": "2023-10-24T15:44:34.073Z"
   },
   {
    "duration": 54,
    "start_time": "2023-10-24T15:44:34.093Z"
   },
   {
    "duration": 47,
    "start_time": "2023-10-24T15:44:34.149Z"
   },
   {
    "duration": 18,
    "start_time": "2023-10-24T15:44:34.198Z"
   },
   {
    "duration": 55,
    "start_time": "2023-10-24T15:44:34.218Z"
   },
   {
    "duration": 41,
    "start_time": "2023-10-24T15:44:34.274Z"
   },
   {
    "duration": 21,
    "start_time": "2023-10-24T15:44:34.317Z"
   },
   {
    "duration": 32,
    "start_time": "2023-10-24T15:44:34.340Z"
   },
   {
    "duration": 18,
    "start_time": "2023-10-24T15:44:34.374Z"
   },
   {
    "duration": 22,
    "start_time": "2023-10-24T15:44:34.394Z"
   },
   {
    "duration": 18,
    "start_time": "2023-10-24T15:44:34.418Z"
   },
   {
    "duration": 13,
    "start_time": "2023-10-24T15:44:34.438Z"
   },
   {
    "duration": 313,
    "start_time": "2023-10-24T15:44:34.453Z"
   },
   {
    "duration": 252,
    "start_time": "2023-10-24T15:44:34.768Z"
   },
   {
    "duration": 266,
    "start_time": "2023-10-24T15:44:35.022Z"
   },
   {
    "duration": 329,
    "start_time": "2023-10-24T15:44:35.290Z"
   },
   {
    "duration": 229,
    "start_time": "2023-10-24T15:44:35.621Z"
   },
   {
    "duration": 365,
    "start_time": "2023-10-24T15:44:35.853Z"
   },
   {
    "duration": 12,
    "start_time": "2023-10-24T15:44:36.221Z"
   },
   {
    "duration": 173,
    "start_time": "2023-10-24T15:44:36.247Z"
   },
   {
    "duration": 5,
    "start_time": "2023-10-24T15:44:36.422Z"
   },
   {
    "duration": 282,
    "start_time": "2023-10-24T15:44:36.428Z"
   },
   {
    "duration": 177,
    "start_time": "2023-10-24T15:44:36.713Z"
   },
   {
    "duration": 6,
    "start_time": "2023-10-24T15:44:36.892Z"
   },
   {
    "duration": 58,
    "start_time": "2023-10-24T15:44:36.899Z"
   },
   {
    "duration": 145,
    "start_time": "2023-10-24T15:44:36.958Z"
   },
   {
    "duration": 6,
    "start_time": "2023-10-24T15:44:37.105Z"
   },
   {
    "duration": 69,
    "start_time": "2023-10-24T15:44:37.113Z"
   },
   {
    "duration": 15,
    "start_time": "2023-10-24T15:44:37.184Z"
   },
   {
    "duration": 42,
    "start_time": "2023-10-24T15:44:37.201Z"
   },
   {
    "duration": 25,
    "start_time": "2023-10-24T15:44:37.245Z"
   },
   {
    "duration": 70,
    "start_time": "2023-10-24T15:44:37.272Z"
   },
   {
    "duration": 16,
    "start_time": "2023-10-24T15:44:37.344Z"
   },
   {
    "duration": 354,
    "start_time": "2023-10-24T15:44:37.361Z"
   },
   {
    "duration": 346,
    "start_time": "2023-10-24T15:44:37.717Z"
   },
   {
    "duration": 1260,
    "start_time": "2023-10-24T15:59:19.646Z"
   },
   {
    "duration": 185,
    "start_time": "2023-10-24T15:59:20.908Z"
   },
   {
    "duration": 12,
    "start_time": "2023-10-24T15:59:21.095Z"
   },
   {
    "duration": 28,
    "start_time": "2023-10-24T15:59:21.108Z"
   },
   {
    "duration": 51,
    "start_time": "2023-10-24T15:59:21.137Z"
   },
   {
    "duration": 23,
    "start_time": "2023-10-24T15:59:21.190Z"
   },
   {
    "duration": 17,
    "start_time": "2023-10-24T15:59:21.215Z"
   },
   {
    "duration": 21,
    "start_time": "2023-10-24T15:59:21.234Z"
   },
   {
    "duration": 13,
    "start_time": "2023-10-24T15:59:21.256Z"
   },
   {
    "duration": 4,
    "start_time": "2023-10-24T15:59:21.272Z"
   },
   {
    "duration": 30,
    "start_time": "2023-10-24T15:59:21.277Z"
   },
   {
    "duration": 7,
    "start_time": "2023-10-24T15:59:21.309Z"
   },
   {
    "duration": 13,
    "start_time": "2023-10-24T15:59:21.318Z"
   },
   {
    "duration": 10,
    "start_time": "2023-10-24T15:59:21.344Z"
   },
   {
    "duration": 13,
    "start_time": "2023-10-24T15:59:21.355Z"
   },
   {
    "duration": 22,
    "start_time": "2023-10-24T15:59:21.370Z"
   },
   {
    "duration": 6,
    "start_time": "2023-10-24T15:59:21.394Z"
   },
   {
    "duration": 14,
    "start_time": "2023-10-24T15:59:21.401Z"
   },
   {
    "duration": 277,
    "start_time": "2023-10-24T15:59:21.417Z"
   },
   {
    "duration": 291,
    "start_time": "2023-10-24T15:59:21.696Z"
   },
   {
    "duration": 205,
    "start_time": "2023-10-24T15:59:21.989Z"
   },
   {
    "duration": 398,
    "start_time": "2023-10-24T15:59:22.196Z"
   },
   {
    "duration": 205,
    "start_time": "2023-10-24T15:59:22.595Z"
   },
   {
    "duration": 309,
    "start_time": "2023-10-24T15:59:22.802Z"
   },
   {
    "duration": 11,
    "start_time": "2023-10-24T15:59:23.112Z"
   },
   {
    "duration": 152,
    "start_time": "2023-10-24T15:59:23.124Z"
   },
   {
    "duration": 4,
    "start_time": "2023-10-24T15:59:23.278Z"
   },
   {
    "duration": 167,
    "start_time": "2023-10-24T15:59:23.285Z"
   },
   {
    "duration": 159,
    "start_time": "2023-10-24T15:59:23.453Z"
   },
   {
    "duration": 5,
    "start_time": "2023-10-24T15:59:23.614Z"
   },
   {
    "duration": 134,
    "start_time": "2023-10-24T15:59:23.621Z"
   },
   {
    "duration": 158,
    "start_time": "2023-10-24T15:59:23.757Z"
   },
   {
    "duration": 6,
    "start_time": "2023-10-24T15:59:23.916Z"
   },
   {
    "duration": 35,
    "start_time": "2023-10-24T15:59:23.924Z"
   },
   {
    "duration": 11,
    "start_time": "2023-10-24T15:59:23.961Z"
   },
   {
    "duration": 15,
    "start_time": "2023-10-24T15:59:23.974Z"
   },
   {
    "duration": 36,
    "start_time": "2023-10-24T15:59:23.992Z"
   },
   {
    "duration": 23,
    "start_time": "2023-10-24T15:59:24.030Z"
   },
   {
    "duration": 13,
    "start_time": "2023-10-24T15:59:24.055Z"
   },
   {
    "duration": 314,
    "start_time": "2023-10-24T15:59:24.070Z"
   },
   {
    "duration": 328,
    "start_time": "2023-10-24T15:59:24.386Z"
   }
  ],
  "kernelspec": {
   "display_name": "Python 3 (ipykernel)",
   "language": "python",
   "name": "python3"
  },
  "language_info": {
   "codemirror_mode": {
    "name": "ipython",
    "version": 3
   },
   "file_extension": ".py",
   "mimetype": "text/x-python",
   "name": "python",
   "nbconvert_exporter": "python",
   "pygments_lexer": "ipython3",
   "version": "3.9.5"
  },
  "toc": {
   "base_numbering": 1,
   "nav_menu": {
    "height": "180px",
    "width": "234.375px"
   },
   "number_sections": true,
   "sideBar": true,
   "skip_h1_title": true,
   "title_cell": "Table of Contents",
   "title_sidebar": "Contents",
   "toc_cell": false,
   "toc_position": {},
   "toc_section_display": true,
   "toc_window_display": false
  }
 },
 "nbformat": 4,
 "nbformat_minor": 2
}
